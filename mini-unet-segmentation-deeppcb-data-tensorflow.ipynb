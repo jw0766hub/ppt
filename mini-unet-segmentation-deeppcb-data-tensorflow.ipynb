{
 "cells": [
  {
   "cell_type": "code",
   "execution_count": 1,
   "metadata": {
    "_cell_guid": "b1076dfc-b9ad-4769-8c92-a6c4dae69d19",
    "_uuid": "8f2839f25d086af736a60e9eeb907d3b93b6e0e5",
    "execution": {
     "iopub.execute_input": "2021-03-18T15:09:16.452583Z",
     "iopub.status.busy": "2021-03-18T15:09:16.451926Z",
     "iopub.status.idle": "2021-03-18T15:09:21.359171Z",
     "shell.execute_reply": "2021-03-18T15:09:21.358421Z"
    },
    "papermill": {
     "duration": 4.93635,
     "end_time": "2021-03-18T15:09:21.359347",
     "exception": false,
     "start_time": "2021-03-18T15:09:16.422997",
     "status": "completed"
    },
    "tags": []
   },
   "outputs": [],
   "source": [
    "import os\n",
    "import tensorflow as tf\n",
    "import matplotlib.pyplot as plt\n",
    "from tqdm.notebook import tqdm\n",
    "import pandas as pd\n",
    "import numpy as np\n",
    "from tensorflow import keras\n",
    "import cv2\n",
    "import pickle\n",
    "from tensorflow.keras import backend as K\n",
    "from PIL import Image\n",
    "import matplotlib.patches as mpatches"
   ]
  },
  {
   "cell_type": "markdown",
   "metadata": {
    "papermill": {
     "duration": 0.022012,
     "end_time": "2021-03-18T15:09:21.404910",
     "exception": false,
     "start_time": "2021-03-18T15:09:21.382898",
     "status": "completed"
    },
    "tags": []
   },
   "source": [
    "# Load & Preprocessing"
   ]
  },
  {
   "cell_type": "code",
   "execution_count": 2,
   "metadata": {
    "execution": {
     "iopub.execute_input": "2021-03-18T15:09:21.459157Z",
     "iopub.status.busy": "2021-03-18T15:09:21.458271Z",
     "iopub.status.idle": "2021-03-18T15:09:21.460941Z",
     "shell.execute_reply": "2021-03-18T15:09:21.460509Z"
    },
    "papermill": {
     "duration": 0.028916,
     "end_time": "2021-03-18T15:09:21.461052",
     "exception": false,
     "start_time": "2021-03-18T15:09:21.432136",
     "status": "completed"
    },
    "tags": []
   },
   "outputs": [],
   "source": [
    "PATH = '/kaggle/input/bridge-cracks-image/DeepPCB/PCBData'"
   ]
  },
  {
   "cell_type": "code",
   "execution_count": 3,
   "metadata": {
    "execution": {
     "iopub.execute_input": "2021-03-18T15:09:21.514060Z",
     "iopub.status.busy": "2021-03-18T15:09:21.513464Z",
     "iopub.status.idle": "2021-03-18T15:09:22.135841Z",
     "shell.execute_reply": "2021-03-18T15:09:22.136258Z"
    },
    "papermill": {
     "duration": 0.653244,
     "end_time": "2021-03-18T15:09:22.136409",
     "exception": false,
     "start_time": "2021-03-18T15:09:21.483165",
     "status": "completed"
    },
    "tags": []
   },
   "outputs": [
    {
     "data": {
      "application/vnd.jupyter.widget-view+json": {
       "model_id": "bdb5d70ea6ad44938a7179f8f92bb231",
       "version_major": 2,
       "version_minor": 0
      },
      "text/plain": [
       "  0%|          | 0/11 [00:00<?, ?it/s]"
      ]
     },
     "metadata": {},
     "output_type": "display_data"
    }
   ],
   "source": [
    "normal = []\n",
    "defect = []\n",
    "defectlog = []\n",
    "path_2 = [os.path.join(PATH,dir) for dir in os.listdir(PATH) if '.' not in dir]\n",
    "for p in tqdm(path_2,total=len(path_2)):\n",
    "    path_3 = os.path.join(p,sorted(os.listdir(p))[0])\n",
    "    normal +=[os.path.join(path_3,dir)for dir in os.listdir(path_3) if 'temp' in dir]\n",
    "    defect +=[os.path.join(path_3,dir)for dir in os.listdir(path_3) if 'test' in dir]\n",
    "    path_4 = os.path.join(p,sorted(os.listdir(p))[1])\n",
    "    defectlog +=[os.path.join(path_4,dir)for dir in os.listdir(path_4)]\n",
    "normal.sort()\n",
    "defect.sort()\n",
    "defectlog.sort()"
   ]
  },
  {
   "cell_type": "code",
   "execution_count": 4,
   "metadata": {
    "execution": {
     "iopub.execute_input": "2021-03-18T15:09:22.211068Z",
     "iopub.status.busy": "2021-03-18T15:09:22.210126Z",
     "iopub.status.idle": "2021-03-18T15:09:43.714858Z",
     "shell.execute_reply": "2021-03-18T15:09:43.714030Z"
    },
    "papermill": {
     "duration": 21.554787,
     "end_time": "2021-03-18T15:09:43.714988",
     "exception": false,
     "start_time": "2021-03-18T15:09:22.160201",
     "status": "completed"
    },
    "tags": []
   },
   "outputs": [
    {
     "data": {
      "application/vnd.jupyter.widget-view+json": {
       "model_id": "edc18af14f9441d2b3281a2b248e80f4",
       "version_major": 2,
       "version_minor": 0
      },
      "text/plain": [
       "  0%|          | 0/1501 [00:00<?, ?it/s]"
      ]
     },
     "metadata": {},
     "output_type": "display_data"
    },
    {
     "data": {
      "application/vnd.jupyter.widget-view+json": {
       "model_id": "eb64cfed734d4f448616baeb898841cd",
       "version_major": 2,
       "version_minor": 0
      },
      "text/plain": [
       "  0%|          | 0/1500 [00:00<?, ?it/s]"
      ]
     },
     "metadata": {},
     "output_type": "display_data"
    }
   ],
   "source": [
    "img0 = []\n",
    "img1 = []\n",
    "for img_path in tqdm(normal,total=len(normal)):\n",
    "    img = cv2.imread(img_path, cv2.IMREAD_GRAYSCALE)\n",
    "    img = cv2.resize(img,(128,128))\n",
    "    img0.append(img)\n",
    "for img_path in tqdm(defect,total=len(defect)):\n",
    "    img = cv2.imread(img_path, cv2.IMREAD_GRAYSCALE)\n",
    "    img = cv2.resize(img,(128,128))\n",
    "    img1.append(img)\n",
    "img0 = np.array(img0)\n",
    "img1 = np.array(img1)\n",
    "# with open(path+'img0.pkl', 'wb') as f:\n",
    "#     pickle.dump(img0, f, pickle.HIGHEST_PROTOCOL)\n",
    "# with open(path+'img1.pkl', 'wb') as f:\n",
    "#     pickle.dump(img1, f, pickle.HIGHEST_PROTOCOL)"
   ]
  },
  {
   "cell_type": "code",
   "execution_count": 5,
   "metadata": {
    "execution": {
     "iopub.execute_input": "2021-03-18T15:09:43.767796Z",
     "iopub.status.busy": "2021-03-18T15:09:43.766890Z",
     "iopub.status.idle": "2021-03-18T15:09:43.769461Z",
     "shell.execute_reply": "2021-03-18T15:09:43.768959Z"
    },
    "papermill": {
     "duration": 0.030258,
     "end_time": "2021-03-18T15:09:43.769582",
     "exception": false,
     "start_time": "2021-03-18T15:09:43.739324",
     "status": "completed"
    },
    "tags": []
   },
   "outputs": [],
   "source": [
    "# with open(path+'img0.pkl', 'rb') as f:\n",
    "#     img0 = pickle.load(f)\n",
    "# with open(path+'img1.pkl', 'rb') as f:\n",
    "#     img1 = pickle.load(f)"
   ]
  },
  {
   "cell_type": "code",
   "execution_count": 6,
   "metadata": {
    "execution": {
     "iopub.execute_input": "2021-03-18T15:09:43.847185Z",
     "iopub.status.busy": "2021-03-18T15:09:43.846681Z",
     "iopub.status.idle": "2021-03-18T15:09:50.265818Z",
     "shell.execute_reply": "2021-03-18T15:09:50.265241Z"
    },
    "papermill": {
     "duration": 6.472263,
     "end_time": "2021-03-18T15:09:50.265977",
     "exception": false,
     "start_time": "2021-03-18T15:09:43.793714",
     "status": "completed"
    },
    "tags": []
   },
   "outputs": [
    {
     "data": {
      "application/vnd.jupyter.widget-view+json": {
       "model_id": "bddcef226ede4200a2de06dddbf62399",
       "version_major": 2,
       "version_minor": 0
      },
      "text/plain": [
       "  0%|          | 0/1500 [00:00<?, ?it/s]"
      ]
     },
     "metadata": {},
     "output_type": "display_data"
    },
    {
     "data": {
      "application/vnd.jupyter.widget-view+json": {
       "model_id": "aeb974013e3f4f71b08a418fd52d6cb6",
       "version_major": 2,
       "version_minor": 0
      },
      "text/plain": [
       "  0%|          | 0/1500 [00:00<?, ?it/s]"
      ]
     },
     "metadata": {},
     "output_type": "display_data"
    }
   ],
   "source": [
    "box = []\n",
    "i=0\n",
    "for log in tqdm(defectlog,total=len(defectlog)):\n",
    "    temp = pd.read_csv(log,sep=' ' ,names=['x1', 'y1', 'x2', 'y2', 'defect'], header=None).values.tolist()\n",
    "    box.append(temp)\n",
    "    i+=1\n",
    "boxarr = []\n",
    "for i in tqdm(range(len(box))):\n",
    "    narr = np.zeros((640,640,1))\n",
    "    for j in range(len(box[i])):\n",
    "        x1,y1,x2,y2,d = box[i][j]\n",
    "        narr = cv2.rectangle(narr,(x1,y1),(x2,y2),d,-1)\n",
    "    narr = cv2.resize(narr,(88,88))\n",
    "    boxarr.append(narr)\n",
    "boxarr = np.array(boxarr)\n",
    "# with open(path+'boxarr.pkl', 'wb') as f:\n",
    "#     pickle.dump(boxarr, f, pickle.HIGHEST_PROTOCOL)"
   ]
  },
  {
   "cell_type": "code",
   "execution_count": 7,
   "metadata": {
    "execution": {
     "iopub.execute_input": "2021-03-18T15:09:50.326102Z",
     "iopub.status.busy": "2021-03-18T15:09:50.325493Z",
     "iopub.status.idle": "2021-03-18T15:09:50.329690Z",
     "shell.execute_reply": "2021-03-18T15:09:50.329195Z"
    },
    "papermill": {
     "duration": 0.035887,
     "end_time": "2021-03-18T15:09:50.329862",
     "exception": false,
     "start_time": "2021-03-18T15:09:50.293975",
     "status": "completed"
    },
    "tags": []
   },
   "outputs": [],
   "source": [
    "# with open(path+'boxarr.pkl', 'rb') as f:\n",
    "#     boxarr = pickle.load(f)"
   ]
  },
  {
   "cell_type": "code",
   "execution_count": 8,
   "metadata": {
    "execution": {
     "iopub.execute_input": "2021-03-18T15:09:50.404466Z",
     "iopub.status.busy": "2021-03-18T15:09:50.403194Z",
     "iopub.status.idle": "2021-03-18T15:09:50.553713Z",
     "shell.execute_reply": "2021-03-18T15:09:50.554168Z"
    },
    "papermill": {
     "duration": 0.19752,
     "end_time": "2021-03-18T15:09:50.554312",
     "exception": false,
     "start_time": "2021-03-18T15:09:50.356792",
     "status": "completed"
    },
    "tags": []
   },
   "outputs": [
    {
     "data": {
      "image/png": "[encoded data removed]",
      "text/plain": [
       "<Figure size 432x288 with 1 Axes>"
      ]
     },
     "metadata": {
      "needs_background": "light"
     },
     "output_type": "display_data"
    }
   ],
   "source": [
    "plt.imshow(np.reshape(boxarr[0],(88,88)),cmap='gnuplot')\n",
    "plt.show()"
   ]
  },
  {
   "cell_type": "code",
   "execution_count": 9,
   "metadata": {
    "execution": {
     "iopub.execute_input": "2021-03-18T15:09:50.630674Z",
     "iopub.status.busy": "2021-03-18T15:09:50.627564Z",
     "iopub.status.idle": "2021-03-18T15:09:50.743476Z",
     "shell.execute_reply": "2021-03-18T15:09:50.743892Z"
    },
    "papermill": {
     "duration": 0.163233,
     "end_time": "2021-03-18T15:09:50.744029",
     "exception": false,
     "start_time": "2021-03-18T15:09:50.580796",
     "status": "completed"
    },
    "tags": []
   },
   "outputs": [
    {
     "data": {
      "image/png": "[encoded data removed]",
      "text/plain": [
       "<Figure size 432x288 with 1 Axes>"
      ]
     },
     "metadata": {
      "needs_background": "light"
     },
     "output_type": "display_data"
    }
   ],
   "source": [
    "plt.imshow(np.reshape(img1[0],(128,128)),cmap='gnuplot')\n",
    "plt.show()"
   ]
  },
  {
   "cell_type": "markdown",
   "metadata": {
    "papermill": {
     "duration": 0.026507,
     "end_time": "2021-03-18T15:09:50.797065",
     "exception": false,
     "start_time": "2021-03-18T15:09:50.770558",
     "status": "completed"
    },
    "tags": []
   },
   "source": [
    "# Make Dataset & UNet Model"
   ]
  },
  {
   "cell_type": "markdown",
   "metadata": {
    "papermill": {
     "duration": 0.026554,
     "end_time": "2021-03-18T15:09:50.850842",
     "exception": false,
     "start_time": "2021-03-18T15:09:50.824288",
     "status": "completed"
    },
    "tags": []
   },
   "source": [
    "We only use abnormal images for smooth segmentation."
   ]
  },
  {
   "cell_type": "code",
   "execution_count": 10,
   "metadata": {
    "execution": {
     "iopub.execute_input": "2021-03-18T15:09:53.288088Z",
     "iopub.status.busy": "2021-03-18T15:09:53.223302Z",
     "iopub.status.idle": "2021-03-18T15:09:53.303169Z",
     "shell.execute_reply": "2021-03-18T15:09:53.302305Z"
    },
    "papermill": {
     "duration": 2.425915,
     "end_time": "2021-03-18T15:09:53.303299",
     "exception": false,
     "start_time": "2021-03-18T15:09:50.877384",
     "status": "completed"
    },
    "tags": []
   },
   "outputs": [],
   "source": [
    "dataset = tf.data.Dataset.from_tensor_slices((img1,boxarr))"
   ]
  },
  {
   "cell_type": "code",
   "execution_count": 11,
   "metadata": {
    "execution": {
     "iopub.execute_input": "2021-03-18T15:09:53.361177Z",
     "iopub.status.busy": "2021-03-18T15:09:53.360438Z",
     "iopub.status.idle": "2021-03-18T15:09:53.369706Z",
     "shell.execute_reply": "2021-03-18T15:09:53.370122Z"
    },
    "papermill": {
     "duration": 0.040156,
     "end_time": "2021-03-18T15:09:53.370262",
     "exception": false,
     "start_time": "2021-03-18T15:09:53.330106",
     "status": "completed"
    },
    "tags": []
   },
   "outputs": [],
   "source": [
    "n=1500\n",
    "dataset = dataset.shuffle(n)\n",
    "train_dataset = dataset.take(int(n*0.8)).batch(100)\n",
    "test_dataset = dataset.skip(int(n*0.8)).batch(100)"
   ]
  },
  {
   "cell_type": "markdown",
   "metadata": {
    "papermill": {
     "duration": 0.026432,
     "end_time": "2021-03-18T15:09:53.423459",
     "exception": false,
     "start_time": "2021-03-18T15:09:53.397027",
     "status": "completed"
    },
    "tags": []
   },
   "source": [
    "Originally, mirror padding was supposed to be used in Expanding Path, we simply use CenterCrop in Contracting Path"
   ]
  },
  {
   "cell_type": "code",
   "execution_count": 12,
   "metadata": {
    "execution": {
     "iopub.execute_input": "2021-03-18T15:09:53.496085Z",
     "iopub.status.busy": "2021-03-18T15:09:53.495486Z",
     "iopub.status.idle": "2021-03-18T15:09:54.006195Z",
     "shell.execute_reply": "2021-03-18T15:09:54.005681Z"
    },
    "papermill": {
     "duration": 0.556271,
     "end_time": "2021-03-18T15:09:54.006323",
     "exception": false,
     "start_time": "2021-03-18T15:09:53.450052",
     "status": "completed"
    },
    "tags": []
   },
   "outputs": [],
   "source": [
    "## layer5 cnn bn he flip\n",
    "inputs = keras.layers.Input((128,128,1))\n",
    "# x = keras.layers.experimental.preprocessing.Resizing(128,128)(inputs)\n",
    "x = keras.layers.experimental.preprocessing.Rescaling(1./255)(inputs)\n",
    "x = keras.layers.experimental.preprocessing.RandomFlip(mode='horizontal_and_vertical')(x)\n",
    "\n",
    "x = keras.layers.Conv2D(filters=64,kernel_size=3,kernel_initializer=tf.keras.initializers.HeNormal())(x) #126 126 64\n",
    "x = keras.layers.Activation('relu')(x)\n",
    "x = keras.layers.Conv2D(filters=64,kernel_size=3,kernel_initializer=tf.keras.initializers.HeNormal())(x) #124 124 64\n",
    "x = keras.layers.Activation('relu')(x)\n",
    "x1 = tf.identity(x)\n",
    "x1 = keras.layers.experimental.preprocessing.CenterCrop(92,92)(x1)\n",
    "\n",
    "x = keras.layers.MaxPooling2D((2, 2), strides=2)(x) #62 62,64\n",
    "\n",
    "x = keras.layers.Conv2D(filters=128,kernel_size=3,kernel_initializer=tf.keras.initializers.HeNormal())(x) #60 60 128\n",
    "x = keras.layers.Activation('relu')(x)\n",
    "x = keras.layers.Conv2D(filters=128,kernel_size=3,kernel_initializer=tf.keras.initializers.HeNormal())(x) #58 58 128\n",
    "x = keras.layers.Activation('relu')(x)\n",
    "x2 = tf.identity(x)\n",
    "x2 = keras.layers.experimental.preprocessing.CenterCrop(50,50)(x2)\n",
    "\n",
    "x = keras.layers.MaxPooling2D((2, 2), strides=2)(x) #29 29 128\n",
    "\n",
    "x = keras.layers.Conv2D(filters=256,kernel_size=3,kernel_initializer=tf.keras.initializers.HeNormal())(x) #27 27 256\n",
    "x = keras.layers.Activation('relu')(x)\n",
    "x = keras.layers.Conv2D(filters=256,kernel_size=3,kernel_initializer=tf.keras.initializers.HeNormal())(x) #25 25 256\n",
    "x = keras.layers.Activation('relu')(x)\n",
    "\n",
    "x = tf.keras.layers.Conv2DTranspose(filters=128, kernel_size=2, strides=(2, 2),kernel_initializer=tf.keras.initializers.HeNormal())(x) # 50 50 128\n",
    "\n",
    "x = keras.layers.Concatenate()([x,x2]) #50 50 256\n",
    "x = keras.layers.Conv2D(filters=128,kernel_size=3,kernel_initializer=tf.keras.initializers.HeNormal())(x) #48 48 128\n",
    "x = keras.layers.Activation('relu')(x)\n",
    "x = keras.layers.Conv2D(filters=128,kernel_size=3,kernel_initializer=tf.keras.initializers.HeNormal())(x) #46 46 128\n",
    "x = keras.layers.Activation('relu')(x)\n",
    "\n",
    "x = tf.keras.layers.Conv2DTranspose(filters=64, kernel_size=2, strides=(2, 2),kernel_initializer=tf.keras.initializers.HeNormal())(x) # 92 92 64\n",
    "\n",
    "x = keras.layers.Concatenate()([x,x1]) #92,92 128\n",
    "x = keras.layers.Conv2D(filters=64,kernel_size=3,kernel_initializer=tf.keras.initializers.HeNormal())(x) #90 90 64\n",
    "x = keras.layers.Activation('relu')(x)\n",
    "x = keras.layers.Conv2D(filters=64,kernel_size=3,kernel_initializer=tf.keras.initializers.HeNormal())(x) #88 88 64\n",
    "x = keras.layers.Activation('relu')(x)\n",
    "\n",
    "outputs = keras.layers.Conv2D(filters=7,kernel_size=1,kernel_initializer=tf.keras.initializers.HeNormal())(x) #88 88 7"
   ]
  },
  {
   "cell_type": "code",
   "execution_count": 13,
   "metadata": {
    "execution": {
     "iopub.execute_input": "2021-03-18T15:09:54.067213Z",
     "iopub.status.busy": "2021-03-18T15:09:54.066376Z",
     "iopub.status.idle": "2021-03-18T15:09:54.080999Z",
     "shell.execute_reply": "2021-03-18T15:09:54.081690Z"
    },
    "papermill": {
     "duration": 0.047406,
     "end_time": "2021-03-18T15:09:54.081908",
     "exception": false,
     "start_time": "2021-03-18T15:09:54.034502",
     "status": "completed"
    },
    "tags": []
   },
   "outputs": [
    {
     "name": "stdout",
     "output_type": "stream",
     "text": [
      "Model: \"model\"\n",
      "__________________________________________________________________________________________________\n",
      "Layer (type)                    Output Shape         Param #     Connected to                     \n",
      "==================================================================================================\n",
      "input_1 (InputLayer)            [(None, 128, 128, 1) 0                                            \n",
      "__________________________________________________________________________________________________\n",
      "rescaling (Rescaling)           (None, 128, 128, 1)  0           input_1[0][0]                    \n",
      "__________________________________________________________________________________________________\n",
      "random_flip (RandomFlip)        (None, 128, 128, 1)  0           rescaling[0][0]                  \n",
      "__________________________________________________________________________________________________\n",
      "conv2d (Conv2D)                 (None, 126, 126, 64) 640         random_flip[0][0]                \n",
      "__________________________________________________________________________________________________\n",
      "activation (Activation)         (None, 126, 126, 64) 0           conv2d[0][0]                     \n",
      "__________________________________________________________________________________________________\n",
      "conv2d_1 (Conv2D)               (None, 124, 124, 64) 36928       activation[0][0]                 \n",
      "__________________________________________________________________________________________________\n",
      "activation_1 (Activation)       (None, 124, 124, 64) 0           conv2d_1[0][0]                   \n",
      "__________________________________________________________________________________________________\n",
      "max_pooling2d (MaxPooling2D)    (None, 62, 62, 64)   0           activation_1[0][0]               \n",
      "__________________________________________________________________________________________________\n",
      "conv2d_2 (Conv2D)               (None, 60, 60, 128)  73856       max_pooling2d[0][0]              \n",
      "__________________________________________________________________________________________________\n",
      "activation_2 (Activation)       (None, 60, 60, 128)  0           conv2d_2[0][0]                   \n",
      "__________________________________________________________________________________________________\n",
      "conv2d_3 (Conv2D)               (None, 58, 58, 128)  147584      activation_2[0][0]               \n",
      "__________________________________________________________________________________________________\n",
      "activation_3 (Activation)       (None, 58, 58, 128)  0           conv2d_3[0][0]                   \n",
      "__________________________________________________________________________________________________\n",
      "max_pooling2d_1 (MaxPooling2D)  (None, 29, 29, 128)  0           activation_3[0][0]               \n",
      "__________________________________________________________________________________________________\n",
      "conv2d_4 (Conv2D)               (None, 27, 27, 256)  295168      max_pooling2d_1[0][0]            \n",
      "__________________________________________________________________________________________________\n",
      "activation_4 (Activation)       (None, 27, 27, 256)  0           conv2d_4[0][0]                   \n",
      "__________________________________________________________________________________________________\n",
      "conv2d_5 (Conv2D)               (None, 25, 25, 256)  590080      activation_4[0][0]               \n",
      "__________________________________________________________________________________________________\n",
      "activation_5 (Activation)       (None, 25, 25, 256)  0           conv2d_5[0][0]                   \n",
      "__________________________________________________________________________________________________\n",
      "tf.identity_1 (TFOpLambda)      (None, 58, 58, 128)  0           activation_3[0][0]               \n",
      "__________________________________________________________________________________________________\n",
      "conv2d_transpose (Conv2DTranspo (None, 50, 50, 128)  131200      activation_5[0][0]               \n",
      "__________________________________________________________________________________________________\n",
      "center_crop_1 (CenterCrop)      (None, 50, 50, 128)  0           tf.identity_1[0][0]              \n",
      "__________________________________________________________________________________________________\n",
      "concatenate (Concatenate)       (None, 50, 50, 256)  0           conv2d_transpose[0][0]           \n",
      "                                                                 center_crop_1[0][0]              \n",
      "__________________________________________________________________________________________________\n",
      "conv2d_6 (Conv2D)               (None, 48, 48, 128)  295040      concatenate[0][0]                \n",
      "__________________________________________________________________________________________________\n",
      "activation_6 (Activation)       (None, 48, 48, 128)  0           conv2d_6[0][0]                   \n",
      "__________________________________________________________________________________________________\n",
      "conv2d_7 (Conv2D)               (None, 46, 46, 128)  147584      activation_6[0][0]               \n",
      "__________________________________________________________________________________________________\n",
      "activation_7 (Activation)       (None, 46, 46, 128)  0           conv2d_7[0][0]                   \n",
      "__________________________________________________________________________________________________\n",
      "tf.identity (TFOpLambda)        (None, 124, 124, 64) 0           activation_1[0][0]               \n",
      "__________________________________________________________________________________________________\n",
      "conv2d_transpose_1 (Conv2DTrans (None, 92, 92, 64)   32832       activation_7[0][0]               \n",
      "__________________________________________________________________________________________________\n",
      "center_crop (CenterCrop)        (None, 92, 92, 64)   0           tf.identity[0][0]                \n",
      "__________________________________________________________________________________________________\n",
      "concatenate_1 (Concatenate)     (None, 92, 92, 128)  0           conv2d_transpose_1[0][0]         \n",
      "                                                                 center_crop[0][0]                \n",
      "__________________________________________________________________________________________________\n",
      "conv2d_8 (Conv2D)               (None, 90, 90, 64)   73792       concatenate_1[0][0]              \n",
      "__________________________________________________________________________________________________\n",
      "activation_8 (Activation)       (None, 90, 90, 64)   0           conv2d_8[0][0]                   \n",
      "__________________________________________________________________________________________________\n",
      "conv2d_9 (Conv2D)               (None, 88, 88, 64)   36928       activation_8[0][0]               \n",
      "__________________________________________________________________________________________________\n",
      "activation_9 (Activation)       (None, 88, 88, 64)   0           conv2d_9[0][0]                   \n",
      "__________________________________________________________________________________________________\n",
      "conv2d_10 (Conv2D)              (None, 88, 88, 7)    455         activation_9[0][0]               \n",
      "==================================================================================================\n",
      "Total params: 1,862,087\n",
      "Trainable params: 1,862,087\n",
      "Non-trainable params: 0\n",
      "__________________________________________________________________________________________________\n"
     ]
    }
   ],
   "source": [
    "model = keras.Model(inputs, outputs)\n",
    "model.summary()"
   ]
  },
  {
   "cell_type": "code",
   "execution_count": 14,
   "metadata": {
    "execution": {
     "iopub.execute_input": "2021-03-18T15:09:54.153398Z",
     "iopub.status.busy": "2021-03-18T15:09:54.152893Z",
     "iopub.status.idle": "2021-03-18T15:09:54.159976Z",
     "shell.execute_reply": "2021-03-18T15:09:54.160353Z"
    },
    "papermill": {
     "duration": 0.044379,
     "end_time": "2021-03-18T15:09:54.160480",
     "exception": false,
     "start_time": "2021-03-18T15:09:54.116101",
     "status": "completed"
    },
    "tags": []
   },
   "outputs": [],
   "source": [
    "model.compile(\n",
    "    optimizer='adam',\n",
    "    loss=tf.keras.losses.SparseCategoricalCrossentropy(from_logits=True)\n",
    ")"
   ]
  },
  {
   "cell_type": "code",
   "execution_count": 15,
   "metadata": {
    "execution": {
     "iopub.execute_input": "2021-03-18T15:09:54.219765Z",
     "iopub.status.busy": "2021-03-18T15:09:54.219184Z",
     "iopub.status.idle": "2021-03-18T15:38:44.932055Z",
     "shell.execute_reply": "2021-03-18T15:38:44.932562Z"
    },
    "papermill": {
     "duration": 1730.744288,
     "end_time": "2021-03-18T15:38:44.932785",
     "exception": false,
     "start_time": "2021-03-18T15:09:54.188497",
     "status": "completed"
    },
    "tags": []
   },
   "outputs": [],
   "source": [
    "# callback = tf.keras.callbacks.ModelCheckpoint(PATH+'model.h5', monitor='val_loss', verbose=1, save_best_only=True, save_weights_only=False, mode='loss', save_freq='epoch',)\n",
    "# history = model.fit(train_dataset,epochs=1000,validation_data=test_dataset,callbacks=[callback])\n",
    "history = model.fit(train_dataset,epochs=500,validation_data=test_dataset,verbose=0)"
   ]
  },
  {
   "cell_type": "code",
   "execution_count": 16,
   "metadata": {
    "execution": {
     "iopub.execute_input": "2021-03-18T15:38:45.015355Z",
     "iopub.status.busy": "2021-03-18T15:38:45.013197Z",
     "iopub.status.idle": "2021-03-18T15:38:45.138366Z",
     "shell.execute_reply": "2021-03-18T15:38:45.138864Z"
    },
    "papermill": {
     "duration": 0.176302,
     "end_time": "2021-03-18T15:38:45.139026",
     "exception": false,
     "start_time": "2021-03-18T15:38:44.962724",
     "status": "completed"
    },
    "tags": []
   },
   "outputs": [
    {
     "data": {
      "image/png": "[encoded data removed]",
      "text/plain": [
       "<Figure size 432x288 with 1 Axes>"
      ]
     },
     "metadata": {
      "needs_background": "light"
     },
     "output_type": "display_data"
    }
   ],
   "source": [
    "plt.plot(history.history['val_loss'])\n",
    "plt.show()"
   ]
  },
  {
   "cell_type": "markdown",
   "metadata": {
    "papermill": {
     "duration": 0.02943,
     "end_time": "2021-03-18T15:38:45.200909",
     "exception": false,
     "start_time": "2021-03-18T15:38:45.171479",
     "status": "completed"
    },
    "tags": []
   },
   "source": [
    "# Plot Predict"
   ]
  },
  {
   "cell_type": "code",
   "execution_count": 17,
   "metadata": {
    "execution": {
     "iopub.execute_input": "2021-03-18T15:38:45.264439Z",
     "iopub.status.busy": "2021-03-18T15:38:45.263721Z",
     "iopub.status.idle": "2021-03-18T15:38:45.792186Z",
     "shell.execute_reply": "2021-03-18T15:38:45.791233Z"
    },
    "papermill": {
     "duration": 0.562083,
     "end_time": "2021-03-18T15:38:45.792324",
     "exception": false,
     "start_time": "2021-03-18T15:38:45.230241",
     "status": "completed"
    },
    "tags": []
   },
   "outputs": [
    {
     "data": {
      "text/plain": [
       "<matplotlib.image.AxesImage at 0x7f4667008a10>"
      ]
     },
     "execution_count": 17,
     "metadata": {},
     "output_type": "execute_result"
    },
    {
     "data": {
      "image/png": "[encoded data removed]",
      "text/plain": [
       "<Figure size 432x288 with 1 Axes>"
      ]
     },
     "metadata": {
      "needs_background": "light"
     },
     "output_type": "display_data"
    }
   ],
   "source": [
    "out = model.predict(tf.reshape(img1[0],(-1,128,128,1)))\n",
    "out2 = np.argmax(out,axis=3)\n",
    "plt.imshow(out2[0],cmap='gnuplot')"
   ]
  },
  {
   "cell_type": "code",
   "execution_count": 18,
   "metadata": {
    "execution": {
     "iopub.execute_input": "2021-03-18T15:38:45.859858Z",
     "iopub.status.busy": "2021-03-18T15:38:45.859294Z",
     "iopub.status.idle": "2021-03-18T15:38:45.867881Z",
     "shell.execute_reply": "2021-03-18T15:38:45.867411Z"
    },
    "papermill": {
     "duration": 0.042041,
     "end_time": "2021-03-18T15:38:45.867994",
     "exception": false,
     "start_time": "2021-03-18T15:38:45.825953",
     "status": "completed"
    },
    "tags": []
   },
   "outputs": [],
   "source": [
    "img_arr_resized = cv2.resize(img1[0],(88,88))\n",
    "img_arr_resized = cv2.cvtColor(img_arr_resized,cv2.COLOR_GRAY2RGB)"
   ]
  },
  {
   "cell_type": "code",
   "execution_count": 19,
   "metadata": {
    "execution": {
     "iopub.execute_input": "2021-03-18T15:38:45.947836Z",
     "iopub.status.busy": "2021-03-18T15:38:45.946806Z",
     "iopub.status.idle": "2021-03-18T15:38:46.072854Z",
     "shell.execute_reply": "2021-03-18T15:38:46.073271Z"
    },
    "papermill": {
     "duration": 0.175452,
     "end_time": "2021-03-18T15:38:46.073411",
     "exception": false,
     "start_time": "2021-03-18T15:38:45.897959",
     "status": "completed"
    },
    "tags": []
   },
   "outputs": [
    {
     "data": {
      "text/plain": [
       "<matplotlib.image.AxesImage at 0x7f4666a8ef90>"
      ]
     },
     "execution_count": 19,
     "metadata": {},
     "output_type": "execute_result"
    },
    {
     "data": {
      "image/png": "[encoded data removed]",
      "text/plain": [
       "<Figure size 432x288 with 1 Axes>"
      ]
     },
     "metadata": {
      "needs_background": "light"
     },
     "output_type": "display_data"
    }
   ],
   "source": [
    "plt.imshow(img_arr_resized)"
   ]
  },
  {
   "cell_type": "markdown",
   "metadata": {
    "papermill": {
     "duration": 0.031928,
     "end_time": "2021-03-18T15:38:46.136584",
     "exception": false,
     "start_time": "2021-03-18T15:38:46.104656",
     "status": "completed"
    },
    "tags": []
   },
   "source": [
    "# Result Visualization"
   ]
  },
  {
   "cell_type": "code",
   "execution_count": 20,
   "metadata": {
    "execution": {
     "iopub.execute_input": "2021-03-18T15:38:46.204421Z",
     "iopub.status.busy": "2021-03-18T15:38:46.203931Z",
     "iopub.status.idle": "2021-03-18T15:38:46.243363Z",
     "shell.execute_reply": "2021-03-18T15:38:46.242408Z"
    },
    "papermill": {
     "duration": 0.074931,
     "end_time": "2021-03-18T15:38:46.243479",
     "exception": false,
     "start_time": "2021-03-18T15:38:46.168548",
     "status": "completed"
    },
    "tags": []
   },
   "outputs": [],
   "source": [
    "pred = model.predict(tf.reshape(img1[0],(-1,128,128,1)))\n",
    "pred = np.argmax(pred,axis=3)[0]"
   ]
  },
  {
   "cell_type": "code",
   "execution_count": 21,
   "metadata": {
    "execution": {
     "iopub.execute_input": "2021-03-18T15:38:46.311152Z",
     "iopub.status.busy": "2021-03-18T15:38:46.309605Z",
     "iopub.status.idle": "2021-03-18T15:38:46.311840Z",
     "shell.execute_reply": "2021-03-18T15:38:46.312237Z"
    },
    "papermill": {
     "duration": 0.03749,
     "end_time": "2021-03-18T15:38:46.312378",
     "exception": false,
     "start_time": "2021-03-18T15:38:46.274888",
     "status": "completed"
    },
    "tags": []
   },
   "outputs": [],
   "source": [
    "new_pred = np.zeros((88,88,3),dtype=np.uint8)"
   ]
  },
  {
   "cell_type": "code",
   "execution_count": 22,
   "metadata": {
    "execution": {
     "iopub.execute_input": "2021-03-18T15:38:46.382504Z",
     "iopub.status.busy": "2021-03-18T15:38:46.381381Z",
     "iopub.status.idle": "2021-03-18T15:38:46.385157Z",
     "shell.execute_reply": "2021-03-18T15:38:46.384764Z"
    },
    "papermill": {
     "duration": 0.041188,
     "end_time": "2021-03-18T15:38:46.385262",
     "exception": false,
     "start_time": "2021-03-18T15:38:46.344074",
     "status": "completed"
    },
    "tags": []
   },
   "outputs": [],
   "source": [
    "new_pred[pred==0] = img_arr_resized[pred==0]\n",
    "new_pred[pred==1] = [255,228,0] #open\n",
    "new_pred[pred==2] = [1,0,255] #short\n",
    "new_pred[pred==3] = [29,219,22] #mousebite\n",
    "new_pred[pred==4] = [255,0,0] #spur\n",
    "new_pred[pred==5] = [103,0,0] #copper\n",
    "new_pred[pred==6] = [255,0,127] #pin-hole"
   ]
  },
  {
   "cell_type": "code",
   "execution_count": 23,
   "metadata": {
    "execution": {
     "iopub.execute_input": "2021-03-18T15:38:46.452796Z",
     "iopub.status.busy": "2021-03-18T15:38:46.452263Z",
     "iopub.status.idle": "2021-03-18T15:38:46.456232Z",
     "shell.execute_reply": "2021-03-18T15:38:46.455826Z"
    },
    "papermill": {
     "duration": 0.03912,
     "end_time": "2021-03-18T15:38:46.456338",
     "exception": false,
     "start_time": "2021-03-18T15:38:46.417218",
     "status": "completed"
    },
    "tags": []
   },
   "outputs": [],
   "source": [
    "blend_img1=Image.fromarray(img_arr_resized)\n",
    "blend_img2=Image.fromarray(new_pred)\n",
    "blend_img=Image.blend(blend_img1,blend_img2,0.5)"
   ]
  },
  {
   "cell_type": "code",
   "execution_count": 24,
   "metadata": {
    "execution": {
     "iopub.execute_input": "2021-03-18T15:38:46.539838Z",
     "iopub.status.busy": "2021-03-18T15:38:46.539043Z",
     "iopub.status.idle": "2021-03-18T15:38:46.625128Z",
     "shell.execute_reply": "2021-03-18T15:38:46.624668Z"
    },
    "papermill": {
     "duration": 0.137413,
     "end_time": "2021-03-18T15:38:46.625239",
     "exception": false,
     "start_time": "2021-03-18T15:38:46.487826",
     "status": "completed"
    },
    "tags": []
   },
   "outputs": [
    {
     "data": {
      "image/png": "[encoded data removed]",
      "text/plain": [
       "<Figure size 432x288 with 1 Axes>"
      ]
     },
     "metadata": {},
     "output_type": "display_data"
    }
   ],
   "source": [
    "legend1 = mpatches.Patch(color='#FFE400', label='open')\n",
    "legend2 = mpatches.Patch(color='#0100FF', label='short')\n",
    "legend3 = mpatches.Patch(color='#1DDB16', label='mousebite')\n",
    "legend4 = mpatches.Patch(color='#FF0000', label='spur')\n",
    "legend5 = mpatches.Patch(color='#670000', label='copper')\n",
    "legend6 = mpatches.Patch(color='#FF007F', label='pinhole')\n",
    "plt.legend(loc='lower left', handles=[legend1,legend2,legend3,legend4,legend5,legend6],mode = \"expand\", ncol = 3,fontsize=10)\n",
    "plt.xticks([])\n",
    "plt.yticks([])\n",
    "plt.imshow(np.array(blend_img))\n",
    "plt.show()"
   ]
  },
  {
   "cell_type": "markdown",
   "metadata": {
    "papermill": {
     "duration": 0.033271,
     "end_time": "2021-03-18T15:38:46.691638",
     "exception": false,
     "start_time": "2021-03-18T15:38:46.658367",
     "status": "completed"
    },
    "tags": []
   },
   "source": [
    "# Transfer Learning : Find the exact number of errors for each type"
   ]
  },
  {
   "cell_type": "markdown",
   "metadata": {
    "papermill": {
     "duration": 0.033516,
     "end_time": "2021-03-18T15:38:46.758979",
     "exception": false,
     "start_time": "2021-03-18T15:38:46.725463",
     "status": "completed"
    },
    "tags": []
   },
   "source": [
    "Make DataSet and Preprocessing"
   ]
  },
  {
   "cell_type": "code",
   "execution_count": 25,
   "metadata": {
    "execution": {
     "iopub.execute_input": "2021-03-18T15:38:46.856226Z",
     "iopub.status.busy": "2021-03-18T15:38:46.855316Z",
     "iopub.status.idle": "2021-03-18T15:38:50.944299Z",
     "shell.execute_reply": "2021-03-18T15:38:50.943884Z"
    },
    "papermill": {
     "duration": 4.152603,
     "end_time": "2021-03-18T15:38:50.944421",
     "exception": false,
     "start_time": "2021-03-18T15:38:46.791818",
     "status": "completed"
    },
    "tags": []
   },
   "outputs": [
    {
     "data": {
      "application/vnd.jupyter.widget-view+json": {
       "model_id": "204b7454c32044d99c6533bb0a309ce8",
       "version_major": 2,
       "version_minor": 0
      },
      "text/plain": [
       "  0%|          | 0/1500 [00:00<?, ?it/s]"
      ]
     },
     "metadata": {},
     "output_type": "display_data"
    }
   ],
   "source": [
    "log_df = pd.DataFrame(columns=['0','1','2','3','4','5','6'])\n",
    "i=0\n",
    "for log in tqdm(defectlog,total=len(defectlog)):\n",
    "    temp_df = pd.read_csv(log,sep=' ' ,names=['x1', 'y1', 'x2', 'y2', 'defect'], header=None)\n",
    "    temp = np.zeros(7,dtype=int)\n",
    "    for t in temp_df['defect']:\n",
    "        temp[t]+=1\n",
    "    log_df.loc[i,:] = temp\n",
    "    i+=1"
   ]
  },
  {
   "cell_type": "code",
   "execution_count": 26,
   "metadata": {
    "execution": {
     "iopub.execute_input": "2021-03-18T15:38:51.033469Z",
     "iopub.status.busy": "2021-03-18T15:38:51.032797Z",
     "iopub.status.idle": "2021-03-18T15:38:51.036288Z",
     "shell.execute_reply": "2021-03-18T15:38:51.035788Z"
    },
    "papermill": {
     "duration": 0.050694,
     "end_time": "2021-03-18T15:38:51.036408",
     "exception": false,
     "start_time": "2021-03-18T15:38:50.985714",
     "status": "completed"
    },
    "tags": []
   },
   "outputs": [],
   "source": [
    "dataset2 = tf.data.Dataset.from_tensor_slices((img1,log_df.values.astype(np.int)))"
   ]
  },
  {
   "cell_type": "code",
   "execution_count": 27,
   "metadata": {
    "execution": {
     "iopub.execute_input": "2021-03-18T15:38:51.108757Z",
     "iopub.status.busy": "2021-03-18T15:38:51.107940Z",
     "iopub.status.idle": "2021-03-18T15:38:51.112183Z",
     "shell.execute_reply": "2021-03-18T15:38:51.112601Z"
    },
    "papermill": {
     "duration": 0.042818,
     "end_time": "2021-03-18T15:38:51.112736",
     "exception": false,
     "start_time": "2021-03-18T15:38:51.069918",
     "status": "completed"
    },
    "tags": []
   },
   "outputs": [],
   "source": [
    "n=1500\n",
    "dataset2 = dataset2.shuffle(n)\n",
    "train_dataset2 = dataset2.take(int(n*0.8)).batch(100)\n",
    "test_dataset2 = dataset2.skip(int(n*0.8)).batch(100)"
   ]
  },
  {
   "cell_type": "markdown",
   "metadata": {
    "papermill": {
     "duration": 0.032905,
     "end_time": "2021-03-18T15:38:51.178491",
     "exception": false,
     "start_time": "2021-03-18T15:38:51.145586",
     "status": "completed"
    },
    "tags": []
   },
   "source": [
    "Use pretrained Unet Contracting Path"
   ]
  },
  {
   "cell_type": "code",
   "execution_count": 28,
   "metadata": {
    "execution": {
     "iopub.execute_input": "2021-03-18T15:38:51.250297Z",
     "iopub.status.busy": "2021-03-18T15:38:51.249535Z",
     "iopub.status.idle": "2021-03-18T15:38:51.254750Z",
     "shell.execute_reply": "2021-03-18T15:38:51.254334Z"
    },
    "papermill": {
     "duration": 0.043649,
     "end_time": "2021-03-18T15:38:51.254857",
     "exception": false,
     "start_time": "2021-03-18T15:38:51.211208",
     "status": "completed"
    },
    "tags": []
   },
   "outputs": [],
   "source": [
    "load_model = tf.keras.models.Model(\n",
    "    [model.inputs],\n",
    "    [model.layers[16].output]\n",
    ")"
   ]
  },
  {
   "cell_type": "code",
   "execution_count": 29,
   "metadata": {
    "execution": {
     "iopub.execute_input": "2021-03-18T15:38:51.326765Z",
     "iopub.status.busy": "2021-03-18T15:38:51.326016Z",
     "iopub.status.idle": "2021-03-18T15:38:51.328860Z",
     "shell.execute_reply": "2021-03-18T15:38:51.329275Z"
    },
    "papermill": {
     "duration": 0.040462,
     "end_time": "2021-03-18T15:38:51.329396",
     "exception": false,
     "start_time": "2021-03-18T15:38:51.288934",
     "status": "completed"
    },
    "tags": []
   },
   "outputs": [],
   "source": [
    "for layer in load_model.layers:\n",
    "    layer.trainable=False"
   ]
  },
  {
   "cell_type": "markdown",
   "metadata": {
    "papermill": {
     "duration": 0.03328,
     "end_time": "2021-03-18T15:38:51.395880",
     "exception": false,
     "start_time": "2021-03-18T15:38:51.362600",
     "status": "completed"
    },
    "tags": []
   },
   "source": [
    "Add Classification Model to Unet Contracting Path"
   ]
  },
  {
   "cell_type": "code",
   "execution_count": 30,
   "metadata": {
    "execution": {
     "iopub.execute_input": "2021-03-18T15:38:51.473718Z",
     "iopub.status.busy": "2021-03-18T15:38:51.472888Z",
     "iopub.status.idle": "2021-03-18T15:38:51.578393Z",
     "shell.execute_reply": "2021-03-18T15:38:51.577945Z"
    },
    "papermill": {
     "duration": 0.149377,
     "end_time": "2021-03-18T15:38:51.578514",
     "exception": false,
     "start_time": "2021-03-18T15:38:51.429137",
     "status": "completed"
    },
    "tags": []
   },
   "outputs": [],
   "source": [
    "x = load_model.output #25 25 256\n",
    "x = keras.layers.MaxPooling2D((3, 3), strides=2)(x) #12 12 256\n",
    "x_l = keras.layers.BatchNormalization()(x)\n",
    "x_l = keras.layers.Activation('relu')(x_l)\n",
    "x_l = keras.layers.Conv2D(filters=256,kernel_size=1,padding='same',kernel_initializer=tf.keras.initializers.HeNormal())(x_l)\n",
    "x_l = keras.layers.BatchNormalization()(x_l)\n",
    "x_l = keras.layers.Activation('relu')(x_l)\n",
    "x_l = keras.layers.Conv2D(filters=64,kernel_size=3,padding='same',kernel_initializer=tf.keras.initializers.HeNormal())(x_l)\n",
    "x = keras.layers.Concatenate()([x, x_l]) #12 12 320\n",
    "\n",
    "x = keras.layers.BatchNormalization()(x)\n",
    "x = keras.layers.Activation('relu')(x)\n",
    "x = keras.layers.Conv2D(filters=160,kernel_size=1,padding='same',kernel_initializer=tf.keras.initializers.HeNormal())(x)\n",
    "x = keras.layers.MaxPooling2D((2, 2), strides=2)(x) #6 6 160\n",
    "\n",
    "x_l = keras.layers.BatchNormalization()(x)\n",
    "x_l = keras.layers.Activation('relu')(x_l)\n",
    "x_l = keras.layers.Conv2D(filters=160,kernel_size=1,padding='same',kernel_initializer=tf.keras.initializers.HeNormal())(x_l)\n",
    "x_l = keras.layers.BatchNormalization()(x_l)\n",
    "x_l = keras.layers.Activation('relu')(x_l)\n",
    "x_l = keras.layers.Conv2D(filters=40,kernel_size=3,padding='same',kernel_initializer=tf.keras.initializers.HeNormal())(x_l)\n",
    "x = keras.layers.Concatenate()([x, x_l]) #6 6 200\n",
    "\n",
    "x = keras.layers.GlobalAveragePooling2D()(x) #1*1*200\n",
    "outputs = keras.layers.Dense(7,activation='linear')(x)"
   ]
  },
  {
   "cell_type": "code",
   "execution_count": 31,
   "metadata": {
    "execution": {
     "iopub.execute_input": "2021-03-18T15:38:51.651094Z",
     "iopub.status.busy": "2021-03-18T15:38:51.650310Z",
     "iopub.status.idle": "2021-03-18T15:38:51.668987Z",
     "shell.execute_reply": "2021-03-18T15:38:51.668382Z"
    },
    "papermill": {
     "duration": 0.056991,
     "end_time": "2021-03-18T15:38:51.669132",
     "exception": false,
     "start_time": "2021-03-18T15:38:51.612141",
     "status": "completed"
    },
    "tags": []
   },
   "outputs": [
    {
     "name": "stdout",
     "output_type": "stream",
     "text": [
      "Model: \"model_2\"\n",
      "__________________________________________________________________________________________________\n",
      "Layer (type)                    Output Shape         Param #     Connected to                     \n",
      "==================================================================================================\n",
      "input_1 (InputLayer)            [(None, 128, 128, 1) 0                                            \n",
      "__________________________________________________________________________________________________\n",
      "rescaling (Rescaling)           (None, 128, 128, 1)  0           input_1[0][0]                    \n",
      "__________________________________________________________________________________________________\n",
      "random_flip (RandomFlip)        (None, 128, 128, 1)  0           rescaling[0][0]                  \n",
      "__________________________________________________________________________________________________\n",
      "conv2d (Conv2D)                 (None, 126, 126, 64) 640         random_flip[0][0]                \n",
      "__________________________________________________________________________________________________\n",
      "activation (Activation)         (None, 126, 126, 64) 0           conv2d[0][0]                     \n",
      "__________________________________________________________________________________________________\n",
      "conv2d_1 (Conv2D)               (None, 124, 124, 64) 36928       activation[0][0]                 \n",
      "__________________________________________________________________________________________________\n",
      "activation_1 (Activation)       (None, 124, 124, 64) 0           conv2d_1[0][0]                   \n",
      "__________________________________________________________________________________________________\n",
      "max_pooling2d (MaxPooling2D)    (None, 62, 62, 64)   0           activation_1[0][0]               \n",
      "__________________________________________________________________________________________________\n",
      "conv2d_2 (Conv2D)               (None, 60, 60, 128)  73856       max_pooling2d[0][0]              \n",
      "__________________________________________________________________________________________________\n",
      "activation_2 (Activation)       (None, 60, 60, 128)  0           conv2d_2[0][0]                   \n",
      "__________________________________________________________________________________________________\n",
      "conv2d_3 (Conv2D)               (None, 58, 58, 128)  147584      activation_2[0][0]               \n",
      "__________________________________________________________________________________________________\n",
      "activation_3 (Activation)       (None, 58, 58, 128)  0           conv2d_3[0][0]                   \n",
      "__________________________________________________________________________________________________\n",
      "max_pooling2d_1 (MaxPooling2D)  (None, 29, 29, 128)  0           activation_3[0][0]               \n",
      "__________________________________________________________________________________________________\n",
      "conv2d_4 (Conv2D)               (None, 27, 27, 256)  295168      max_pooling2d_1[0][0]            \n",
      "__________________________________________________________________________________________________\n",
      "activation_4 (Activation)       (None, 27, 27, 256)  0           conv2d_4[0][0]                   \n",
      "__________________________________________________________________________________________________\n",
      "conv2d_5 (Conv2D)               (None, 25, 25, 256)  590080      activation_4[0][0]               \n",
      "__________________________________________________________________________________________________\n",
      "activation_5 (Activation)       (None, 25, 25, 256)  0           conv2d_5[0][0]                   \n",
      "__________________________________________________________________________________________________\n",
      "max_pooling2d_2 (MaxPooling2D)  (None, 12, 12, 256)  0           activation_5[0][0]               \n",
      "__________________________________________________________________________________________________\n",
      "batch_normalization (BatchNorma (None, 12, 12, 256)  1024        max_pooling2d_2[0][0]            \n",
      "__________________________________________________________________________________________________\n",
      "activation_10 (Activation)      (None, 12, 12, 256)  0           batch_normalization[0][0]        \n",
      "__________________________________________________________________________________________________\n",
      "conv2d_11 (Conv2D)              (None, 12, 12, 256)  65792       activation_10[0][0]              \n",
      "__________________________________________________________________________________________________\n",
      "batch_normalization_1 (BatchNor (None, 12, 12, 256)  1024        conv2d_11[0][0]                  \n",
      "__________________________________________________________________________________________________\n",
      "activation_11 (Activation)      (None, 12, 12, 256)  0           batch_normalization_1[0][0]      \n",
      "__________________________________________________________________________________________________\n",
      "conv2d_12 (Conv2D)              (None, 12, 12, 64)   147520      activation_11[0][0]              \n",
      "__________________________________________________________________________________________________\n",
      "concatenate_2 (Concatenate)     (None, 12, 12, 320)  0           max_pooling2d_2[0][0]            \n",
      "                                                                 conv2d_12[0][0]                  \n",
      "__________________________________________________________________________________________________\n",
      "batch_normalization_2 (BatchNor (None, 12, 12, 320)  1280        concatenate_2[0][0]              \n",
      "__________________________________________________________________________________________________\n",
      "activation_12 (Activation)      (None, 12, 12, 320)  0           batch_normalization_2[0][0]      \n",
      "__________________________________________________________________________________________________\n",
      "conv2d_13 (Conv2D)              (None, 12, 12, 160)  51360       activation_12[0][0]              \n",
      "__________________________________________________________________________________________________\n",
      "max_pooling2d_3 (MaxPooling2D)  (None, 6, 6, 160)    0           conv2d_13[0][0]                  \n",
      "__________________________________________________________________________________________________\n",
      "batch_normalization_3 (BatchNor (None, 6, 6, 160)    640         max_pooling2d_3[0][0]            \n",
      "__________________________________________________________________________________________________\n",
      "activation_13 (Activation)      (None, 6, 6, 160)    0           batch_normalization_3[0][0]      \n",
      "__________________________________________________________________________________________________\n",
      "conv2d_14 (Conv2D)              (None, 6, 6, 160)    25760       activation_13[0][0]              \n",
      "__________________________________________________________________________________________________\n",
      "batch_normalization_4 (BatchNor (None, 6, 6, 160)    640         conv2d_14[0][0]                  \n",
      "__________________________________________________________________________________________________\n",
      "activation_14 (Activation)      (None, 6, 6, 160)    0           batch_normalization_4[0][0]      \n",
      "__________________________________________________________________________________________________\n",
      "conv2d_15 (Conv2D)              (None, 6, 6, 40)     57640       activation_14[0][0]              \n",
      "__________________________________________________________________________________________________\n",
      "concatenate_3 (Concatenate)     (None, 6, 6, 200)    0           max_pooling2d_3[0][0]            \n",
      "                                                                 conv2d_15[0][0]                  \n",
      "__________________________________________________________________________________________________\n",
      "global_average_pooling2d (Globa (None, 200)          0           concatenate_3[0][0]              \n",
      "__________________________________________________________________________________________________\n",
      "dense (Dense)                   (None, 7)            1407        global_average_pooling2d[0][0]   \n",
      "==================================================================================================\n",
      "Total params: 1,498,343\n",
      "Trainable params: 351,783\n",
      "Non-trainable params: 1,146,560\n",
      "__________________________________________________________________________________________________\n"
     ]
    }
   ],
   "source": [
    "model2 = keras.Model(load_model.inputs, outputs)\n",
    "model2.summary()"
   ]
  },
  {
   "cell_type": "code",
   "execution_count": 32,
   "metadata": {
    "execution": {
     "iopub.execute_input": "2021-03-18T15:38:51.751672Z",
     "iopub.status.busy": "2021-03-18T15:38:51.749735Z",
     "iopub.status.idle": "2021-03-18T15:38:51.755404Z",
     "shell.execute_reply": "2021-03-18T15:38:51.754905Z"
    },
    "papermill": {
     "duration": 0.048178,
     "end_time": "2021-03-18T15:38:51.755507",
     "exception": false,
     "start_time": "2021-03-18T15:38:51.707329",
     "status": "completed"
    },
    "tags": []
   },
   "outputs": [],
   "source": [
    "model2.compile(\n",
    "    optimizer='adam',\n",
    "    loss='mse'\n",
    ")"
   ]
  },
  {
   "cell_type": "code",
   "execution_count": 33,
   "metadata": {
    "execution": {
     "iopub.execute_input": "2021-03-18T15:38:51.829956Z",
     "iopub.status.busy": "2021-03-18T15:38:51.828947Z",
     "iopub.status.idle": "2021-03-18T15:44:40.874622Z",
     "shell.execute_reply": "2021-03-18T15:44:40.874064Z"
    },
    "papermill": {
     "duration": 349.084618,
     "end_time": "2021-03-18T15:44:40.874772",
     "exception": false,
     "start_time": "2021-03-18T15:38:51.790154",
     "status": "completed"
    },
    "tags": []
   },
   "outputs": [],
   "source": [
    "# callback2 = tf.keras.callbacks.ModelCheckpoint(path+'model2.h5', monitor='val_loss', verbose=1, save_best_only=True, save_weights_only=False, mode='loss', save_freq='epoch',)\n",
    "# history2 = model2.fit(train_dataset2,epochs=1000,validation_data=test_dataset2,callbacks=[callback2])\n",
    "history2 = model2.fit(train_dataset2,epochs=500,validation_data=test_dataset2,verbose=0)"
   ]
  },
  {
   "cell_type": "code",
   "execution_count": 34,
   "metadata": {
    "execution": {
     "iopub.execute_input": "2021-03-18T15:44:40.964169Z",
     "iopub.status.busy": "2021-03-18T15:44:40.963289Z",
     "iopub.status.idle": "2021-03-18T15:44:41.065638Z",
     "shell.execute_reply": "2021-03-18T15:44:41.065199Z"
    },
    "papermill": {
     "duration": 0.155721,
     "end_time": "2021-03-18T15:44:41.065775",
     "exception": false,
     "start_time": "2021-03-18T15:44:40.910054",
     "status": "completed"
    },
    "tags": []
   },
   "outputs": [
    {
     "data": {
      "image/png": "[encoded data removed]",
      "text/plain": [
       "<Figure size 432x288 with 1 Axes>"
      ]
     },
     "metadata": {
      "needs_background": "light"
     },
     "output_type": "display_data"
    }
   ],
   "source": [
    "plt.plot(history2.history['val_loss'])\n",
    "plt.show()"
   ]
  },
  {
   "cell_type": "code",
   "execution_count": 35,
   "metadata": {
    "execution": {
     "iopub.execute_input": "2021-03-18T15:44:41.139404Z",
     "iopub.status.busy": "2021-03-18T15:44:41.138642Z",
     "iopub.status.idle": "2021-03-18T15:44:41.336240Z",
     "shell.execute_reply": "2021-03-18T15:44:41.335707Z"
    },
    "papermill": {
     "duration": 0.236025,
     "end_time": "2021-03-18T15:44:41.336391",
     "exception": false,
     "start_time": "2021-03-18T15:44:41.100366",
     "status": "completed"
    },
    "tags": []
   },
   "outputs": [
    {
     "data": {
      "text/plain": [
       "array([[-0.05392965,  0.9782469 ,  1.2899321 , -0.02730501,  2.0275826 ,\n",
       "         0.97793245,  0.88574326]], dtype=float32)"
      ]
     },
     "execution_count": 35,
     "metadata": {},
     "output_type": "execute_result"
    }
   ],
   "source": [
    "model2_pred = model2.predict(tf.reshape(img1[-1],(-1,128,128,1)))\n",
    "model2_pred"
   ]
  },
  {
   "cell_type": "code",
   "execution_count": 36,
   "metadata": {
    "execution": {
     "iopub.execute_input": "2021-03-18T15:44:41.415381Z",
     "iopub.status.busy": "2021-03-18T15:44:41.414508Z",
     "iopub.status.idle": "2021-03-18T15:44:41.418096Z",
     "shell.execute_reply": "2021-03-18T15:44:41.418630Z"
    },
    "papermill": {
     "duration": 0.043763,
     "end_time": "2021-03-18T15:44:41.418789",
     "exception": false,
     "start_time": "2021-03-18T15:44:41.375026",
     "status": "completed"
    },
    "tags": []
   },
   "outputs": [
    {
     "data": {
      "text/plain": [
       "array([[0, 1, 1, 0, 2, 1, 1]])"
      ]
     },
     "execution_count": 36,
     "metadata": {},
     "output_type": "execute_result"
    }
   ],
   "source": [
    "np.round(model2_pred).astype(np.int)"
   ]
  },
  {
   "cell_type": "code",
   "execution_count": 37,
   "metadata": {
    "execution": {
     "iopub.execute_input": "2021-03-18T15:44:41.497558Z",
     "iopub.status.busy": "2021-03-18T15:44:41.496855Z",
     "iopub.status.idle": "2021-03-18T15:44:41.499930Z",
     "shell.execute_reply": "2021-03-18T15:44:41.500512Z"
    },
    "papermill": {
     "duration": 0.042573,
     "end_time": "2021-03-18T15:44:41.500673",
     "exception": false,
     "start_time": "2021-03-18T15:44:41.458100",
     "status": "completed"
    },
    "tags": []
   },
   "outputs": [
    {
     "data": {
      "text/plain": [
       "array([0, 1, 1, 0, 2, 1, 1], dtype=object)"
      ]
     },
     "execution_count": 37,
     "metadata": {},
     "output_type": "execute_result"
    }
   ],
   "source": [
    "log_df.values[-1]"
   ]
  },
  {
   "cell_type": "markdown",
   "metadata": {
    "papermill": {
     "duration": 0.036037,
     "end_time": "2021-03-18T15:44:41.572959",
     "exception": false,
     "start_time": "2021-03-18T15:44:41.536922",
     "status": "completed"
    },
    "tags": []
   },
   "source": [
    "model got the right answer."
   ]
  },
  {
   "cell_type": "markdown",
   "metadata": {
    "papermill": {
     "duration": 0.035026,
     "end_time": "2021-03-18T15:44:41.644278",
     "exception": false,
     "start_time": "2021-03-18T15:44:41.609252",
     "status": "completed"
    },
    "tags": []
   },
   "source": [
    "if you saved best model by using callback and use that, the result will be more accurate."
   ]
  },
  {
   "cell_type": "code",
   "execution_count": null,
   "metadata": {
    "papermill": {
     "duration": 0.037296,
     "end_time": "2021-03-18T15:44:41.719292",
     "exception": false,
     "start_time": "2021-03-18T15:44:41.681996",
     "status": "completed"
    },
    "tags": []
   },
   "outputs": [],
   "source": []
  }
 ],
 "metadata": {
  "kernelspec": {
   "display_name": "Python 3",
   "language": "python",
   "name": "python3"
  },
  "language_info": {
   "codemirror_mode": {
    "name": "ipython",
    "version": 3
   },
   "file_extension": ".py",
   "mimetype": "text/x-python",
   "name": "python",
   "nbconvert_exporter": "python",
   "pygments_lexer": "ipython3",
   "version": "3.7.9"
  },
  "papermill": {
   "default_parameters": {},
   "duration": 2133.15864,
   "end_time": "2021-03-18T15:44:44.919364",
   "environment_variables": {},
   "exception": null,
   "input_path": "__notebook__.ipynb",
   "output_path": "__notebook__.ipynb",
   "parameters": {},
   "start_time": "2021-03-18T15:09:11.760724",
   "version": "2.2.2"
  },
  "widgets": {
   "application/vnd.jupyter.widget-state+json": {
    "state": {
     "02dd578eaf5e4851958cbad460f93eb1": {
      "model_module": "@jupyter-widgets/controls",
      "model_module_version": "1.5.0",
      "model_name": "HTMLModel",
      "state": {
       "_dom_classes": [],
       "_model_module": "@jupyter-widgets/controls",
       "_model_module_version": "1.5.0",
       "_model_name": "HTMLModel",
       "_view_count": null,
       "_view_module": "@jupyter-widgets/controls",
       "_view_module_version": "1.5.0",
       "_view_name": "HTMLView",
       "description": "",
       "description_tooltip": null,
       "layout": "IPY_MODEL_3d10dd86e3db49b8a3c6cfb0334ca505",
       "placeholder": "​",
       "style": "IPY_MODEL_088f6e4a54eb41b585262b694c1d6707",
       "value": "100%"
      }
     },
     "06562a4191eb4bcc9f91c914f63c9231": {
      "model_module": "@jupyter-widgets/base",
      "model_module_version": "1.2.0",
      "model_name": "LayoutModel",
      "state": {
       "_model_module": "@jupyter-widgets/base",
       "_model_module_version": "1.2.0",
       "_model_name": "LayoutModel",
       "_view_count": null,
       "_view_module": "@jupyter-widgets/base",
       "_view_module_version": "1.2.0",
       "_view_name": "LayoutView",
       "align_content": null,
       "align_items": null,
       "align_self": null,
       "border": null,
       "bottom": null,
       "display": null,
       "flex": null,
       "flex_flow": null,
       "grid_area": null,
       "grid_auto_columns": null,
       "grid_auto_flow": null,
       "grid_auto_rows": null,
       "grid_column": null,
       "grid_gap": null,
       "grid_row": null,
       "grid_template_areas": null,
       "grid_template_columns": null,
       "grid_template_rows": null,
       "height": null,
       "justify_content": null,
       "justify_items": null,
       "left": null,
       "margin": null,
       "max_height": null,
       "max_width": null,
       "min_height": null,
       "min_width": null,
       "object_fit": null,
       "object_position": null,
       "order": null,
       "overflow": null,
       "overflow_x": null,
       "overflow_y": null,
       "padding": null,
       "right": null,
       "top": null,
       "visibility": null,
       "width": null
      }
     },
     "06a3f5a059d44bc7ba56f5db8f5cc653": {
      "model_module": "@jupyter-widgets/controls",
      "model_module_version": "1.5.0",
      "model_name": "FloatProgressModel",
      "state": {
       "_dom_classes": [],
       "_model_module": "@jupyter-widgets/controls",
       "_model_module_version": "1.5.0",
       "_model_name": "FloatProgressModel",
       "_view_count": null,
       "_view_module": "@jupyter-widgets/controls",
       "_view_module_version": "1.5.0",
       "_view_name": "ProgressView",
       "bar_style": "success",
       "description": "",
       "description_tooltip": null,
       "layout": "IPY_MODEL_380991db42864568bc5d19bb07799650",
       "max": 1500.0,
       "min": 0.0,
       "orientation": "horizontal",
       "style": "IPY_MODEL_ff5fff9ba2944cab8ce49efdf438a2cb",
       "value": 1500.0
      }
     },
     "088f6e4a54eb41b585262b694c1d6707": {
      "model_module": "@jupyter-widgets/controls",
      "model_module_version": "1.5.0",
      "model_name": "DescriptionStyleModel",
      "state": {
       "_model_module": "@jupyter-widgets/controls",
       "_model_module_version": "1.5.0",
       "_model_name": "DescriptionStyleModel",
       "_view_count": null,
       "_view_module": "@jupyter-widgets/base",
       "_view_module_version": "1.2.0",
       "_view_name": "StyleView",
       "description_width": ""
      }
     },
     "090652ace5c142d5b04cfcbb3dec33be": {
      "model_module": "@jupyter-widgets/base",
      "model_module_version": "1.2.0",
      "model_name": "LayoutModel",
      "state": {
       "_model_module": "@jupyter-widgets/base",
       "_model_module_version": "1.2.0",
       "_model_name": "LayoutModel",
       "_view_count": null,
       "_view_module": "@jupyter-widgets/base",
       "_view_module_version": "1.2.0",
       "_view_name": "LayoutView",
       "align_content": null,
       "align_items": null,
       "align_self": null,
       "border": null,
       "bottom": null,
       "display": null,
       "flex": null,
       "flex_flow": null,
       "grid_area": null,
       "grid_auto_columns": null,
       "grid_auto_flow": null,
       "grid_auto_rows": null,
       "grid_column": null,
       "grid_gap": null,
       "grid_row": null,
       "grid_template_areas": null,
       "grid_template_columns": null,
       "grid_template_rows": null,
       "height": null,
       "justify_content": null,
       "justify_items": null,
       "left": null,
       "margin": null,
       "max_height": null,
       "max_width": null,
       "min_height": null,
       "min_width": null,
       "object_fit": null,
       "object_position": null,
       "order": null,
       "overflow": null,
       "overflow_x": null,
       "overflow_y": null,
       "padding": null,
       "right": null,
       "top": null,
       "visibility": null,
       "width": null
      }
     },
     "0d9789109af4401d9a558f8dfb1a6d97": {
      "model_module": "@jupyter-widgets/base",
      "model_module_version": "1.2.0",
      "model_name": "LayoutModel",
      "state": {
       "_model_module": "@jupyter-widgets/base",
       "_model_module_version": "1.2.0",
       "_model_name": "LayoutModel",
       "_view_count": null,
       "_view_module": "@jupyter-widgets/base",
       "_view_module_version": "1.2.0",
       "_view_name": "LayoutView",
       "align_content": null,
       "align_items": null,
       "align_self": null,
       "border": null,
       "bottom": null,
       "display": null,
       "flex": null,
       "flex_flow": null,
       "grid_area": null,
       "grid_auto_columns": null,
       "grid_auto_flow": null,
       "grid_auto_rows": null,
       "grid_column": null,
       "grid_gap": null,
       "grid_row": null,
       "grid_template_areas": null,
       "grid_template_columns": null,
       "grid_template_rows": null,
       "height": null,
       "justify_content": null,
       "justify_items": null,
       "left": null,
       "margin": null,
       "max_height": null,
       "max_width": null,
       "min_height": null,
       "min_width": null,
       "object_fit": null,
       "object_position": null,
       "order": null,
       "overflow": null,
       "overflow_x": null,
       "overflow_y": null,
       "padding": null,
       "right": null,
       "top": null,
       "visibility": null,
       "width": null
      }
     },
     "12679127a2e646df8ea6d9868053aa94": {
      "model_module": "@jupyter-widgets/controls",
      "model_module_version": "1.5.0",
      "model_name": "HTMLModel",
      "state": {
       "_dom_classes": [],
       "_model_module": "@jupyter-widgets/controls",
       "_model_module_version": "1.5.0",
       "_model_name": "HTMLModel",
       "_view_count": null,
       "_view_module": "@jupyter-widgets/controls",
       "_view_module_version": "1.5.0",
       "_view_name": "HTMLView",
       "description": "",
       "description_tooltip": null,
       "layout": "IPY_MODEL_090652ace5c142d5b04cfcbb3dec33be",
       "placeholder": "​",
       "style": "IPY_MODEL_d8cfcaa7c3a34e72bda837835e2ebb64",
       "value": "100%"
      }
     },
     "1d37ad25568d4b63935e41557706240f": {
      "model_module": "@jupyter-widgets/controls",
      "model_module_version": "1.5.0",
      "model_name": "ProgressStyleModel",
      "state": {
       "_model_module": "@jupyter-widgets/controls",
       "_model_module_version": "1.5.0",
       "_model_name": "ProgressStyleModel",
       "_view_count": null,
       "_view_module": "@jupyter-widgets/base",
       "_view_module_version": "1.2.0",
       "_view_name": "StyleView",
       "bar_color": null,
       "description_width": ""
      }
     },
     "204b7454c32044d99c6533bb0a309ce8": {
      "model_module": "@jupyter-widgets/controls",
      "model_module_version": "1.5.0",
      "model_name": "HBoxModel",
      "state": {
       "_dom_classes": [],
       "_model_module": "@jupyter-widgets/controls",
       "_model_module_version": "1.5.0",
       "_model_name": "HBoxModel",
       "_view_count": null,
       "_view_module": "@jupyter-widgets/controls",
       "_view_module_version": "1.5.0",
       "_view_name": "HBoxView",
       "box_style": "",
       "children": [
        "IPY_MODEL_a9191c7738c641b9b8c1435f82fa5213",
        "IPY_MODEL_06a3f5a059d44bc7ba56f5db8f5cc653",
        "IPY_MODEL_f98f924bdf0e4d9d868b235b30bad78a"
       ],
       "layout": "IPY_MODEL_bc72340e0b2e49208a7367e743c61932"
      }
     },
     "20e34eeea2184f218bf6bfad69203053": {
      "model_module": "@jupyter-widgets/controls",
      "model_module_version": "1.5.0",
      "model_name": "HTMLModel",
      "state": {
       "_dom_classes": [],
       "_model_module": "@jupyter-widgets/controls",
       "_model_module_version": "1.5.0",
       "_model_name": "HTMLModel",
       "_view_count": null,
       "_view_module": "@jupyter-widgets/controls",
       "_view_module_version": "1.5.0",
       "_view_name": "HTMLView",
       "description": "",
       "description_tooltip": null,
       "layout": "IPY_MODEL_ef84d69e327d41069d205090ff471846",
       "placeholder": "​",
       "style": "IPY_MODEL_9f795152784745868c0cef0aac82fcad",
       "value": "100%"
      }
     },
     "21ec1497580042b89da7f577b22fa61b": {
      "model_module": "@jupyter-widgets/base",
      "model_module_version": "1.2.0",
      "model_name": "LayoutModel",
      "state": {
       "_model_module": "@jupyter-widgets/base",
       "_model_module_version": "1.2.0",
       "_model_name": "LayoutModel",
       "_view_count": null,
       "_view_module": "@jupyter-widgets/base",
       "_view_module_version": "1.2.0",
       "_view_name": "LayoutView",
       "align_content": null,
       "align_items": null,
       "align_self": null,
       "border": null,
       "bottom": null,
       "display": null,
       "flex": null,
       "flex_flow": null,
       "grid_area": null,
       "grid_auto_columns": null,
       "grid_auto_flow": null,
       "grid_auto_rows": null,
       "grid_column": null,
       "grid_gap": null,
       "grid_row": null,
       "grid_template_areas": null,
       "grid_template_columns": null,
       "grid_template_rows": null,
       "height": null,
       "justify_content": null,
       "justify_items": null,
       "left": null,
       "margin": null,
       "max_height": null,
       "max_width": null,
       "min_height": null,
       "min_width": null,
       "object_fit": null,
       "object_position": null,
       "order": null,
       "overflow": null,
       "overflow_x": null,
       "overflow_y": null,
       "padding": null,
       "right": null,
       "top": null,
       "visibility": null,
       "width": null
      }
     },
     "2292f80e67694762a4a12f2ab5270c26": {
      "model_module": "@jupyter-widgets/controls",
      "model_module_version": "1.5.0",
      "model_name": "FloatProgressModel",
      "state": {
       "_dom_classes": [],
       "_model_module": "@jupyter-widgets/controls",
       "_model_module_version": "1.5.0",
       "_model_name": "FloatProgressModel",
       "_view_count": null,
       "_view_module": "@jupyter-widgets/controls",
       "_view_module_version": "1.5.0",
       "_view_name": "ProgressView",
       "bar_style": "success",
       "description": "",
       "description_tooltip": null,
       "layout": "IPY_MODEL_ff2ffd894b9d42c4bea5ed32814d173a",
       "max": 1500.0,
       "min": 0.0,
       "orientation": "horizontal",
       "style": "IPY_MODEL_e3f958359f424bf9ba4d089c4a679708",
       "value": 1500.0
      }
     },
     "2a5dd4463fc54783b03a55776628934e": {
      "model_module": "@jupyter-widgets/controls",
      "model_module_version": "1.5.0",
      "model_name": "DescriptionStyleModel",
      "state": {
       "_model_module": "@jupyter-widgets/controls",
       "_model_module_version": "1.5.0",
       "_model_name": "DescriptionStyleModel",
       "_view_count": null,
       "_view_module": "@jupyter-widgets/base",
       "_view_module_version": "1.2.0",
       "_view_name": "StyleView",
       "description_width": ""
      }
     },
     "35fefc3dbc6e4f53af6146485526b125": {
      "model_module": "@jupyter-widgets/base",
      "model_module_version": "1.2.0",
      "model_name": "LayoutModel",
      "state": {
       "_model_module": "@jupyter-widgets/base",
       "_model_module_version": "1.2.0",
       "_model_name": "LayoutModel",
       "_view_count": null,
       "_view_module": "@jupyter-widgets/base",
       "_view_module_version": "1.2.0",
       "_view_name": "LayoutView",
       "align_content": null,
       "align_items": null,
       "align_self": null,
       "border": null,
       "bottom": null,
       "display": null,
       "flex": null,
       "flex_flow": null,
       "grid_area": null,
       "grid_auto_columns": null,
       "grid_auto_flow": null,
       "grid_auto_rows": null,
       "grid_column": null,
       "grid_gap": null,
       "grid_row": null,
       "grid_template_areas": null,
       "grid_template_columns": null,
       "grid_template_rows": null,
       "height": null,
       "justify_content": null,
       "justify_items": null,
       "left": null,
       "margin": null,
       "max_height": null,
       "max_width": null,
       "min_height": null,
       "min_width": null,
       "object_fit": null,
       "object_position": null,
       "order": null,
       "overflow": null,
       "overflow_x": null,
       "overflow_y": null,
       "padding": null,
       "right": null,
       "top": null,
       "visibility": null,
       "width": null
      }
     },
     "380991db42864568bc5d19bb07799650": {
      "model_module": "@jupyter-widgets/base",
      "model_module_version": "1.2.0",
      "model_name": "LayoutModel",
      "state": {
       "_model_module": "@jupyter-widgets/base",
       "_model_module_version": "1.2.0",
       "_model_name": "LayoutModel",
       "_view_count": null,
       "_view_module": "@jupyter-widgets/base",
       "_view_module_version": "1.2.0",
       "_view_name": "LayoutView",
       "align_content": null,
       "align_items": null,
       "align_self": null,
       "border": null,
       "bottom": null,
       "display": null,
       "flex": null,
       "flex_flow": null,
       "grid_area": null,
       "grid_auto_columns": null,
       "grid_auto_flow": null,
       "grid_auto_rows": null,
       "grid_column": null,
       "grid_gap": null,
       "grid_row": null,
       "grid_template_areas": null,
       "grid_template_columns": null,
       "grid_template_rows": null,
       "height": null,
       "justify_content": null,
       "justify_items": null,
       "left": null,
       "margin": null,
       "max_height": null,
       "max_width": null,
       "min_height": null,
       "min_width": null,
       "object_fit": null,
       "object_position": null,
       "order": null,
       "overflow": null,
       "overflow_x": null,
       "overflow_y": null,
       "padding": null,
       "right": null,
       "top": null,
       "visibility": null,
       "width": null
      }
     },
     "3925da3afddc4a47b6d5b5634f6ae56e": {
      "model_module": "@jupyter-widgets/base",
      "model_module_version": "1.2.0",
      "model_name": "LayoutModel",
      "state": {
       "_model_module": "@jupyter-widgets/base",
       "_model_module_version": "1.2.0",
       "_model_name": "LayoutModel",
       "_view_count": null,
       "_view_module": "@jupyter-widgets/base",
       "_view_module_version": "1.2.0",
       "_view_name": "LayoutView",
       "align_content": null,
       "align_items": null,
       "align_self": null,
       "border": null,
       "bottom": null,
       "display": null,
       "flex": null,
       "flex_flow": null,
       "grid_area": null,
       "grid_auto_columns": null,
       "grid_auto_flow": null,
       "grid_auto_rows": null,
       "grid_column": null,
       "grid_gap": null,
       "grid_row": null,
       "grid_template_areas": null,
       "grid_template_columns": null,
       "grid_template_rows": null,
       "height": null,
       "justify_content": null,
       "justify_items": null,
       "left": null,
       "margin": null,
       "max_height": null,
       "max_width": null,
       "min_height": null,
       "min_width": null,
       "object_fit": null,
       "object_position": null,
       "order": null,
       "overflow": null,
       "overflow_x": null,
       "overflow_y": null,
       "padding": null,
       "right": null,
       "top": null,
       "visibility": null,
       "width": null
      }
     },
     "3b4e66bcde944c1f8f50c763aee17b98": {
      "model_module": "@jupyter-widgets/base",
      "model_module_version": "1.2.0",
      "model_name": "LayoutModel",
      "state": {
       "_model_module": "@jupyter-widgets/base",
       "_model_module_version": "1.2.0",
       "_model_name": "LayoutModel",
       "_view_count": null,
       "_view_module": "@jupyter-widgets/base",
       "_view_module_version": "1.2.0",
       "_view_name": "LayoutView",
       "align_content": null,
       "align_items": null,
       "align_self": null,
       "border": null,
       "bottom": null,
       "display": null,
       "flex": null,
       "flex_flow": null,
       "grid_area": null,
       "grid_auto_columns": null,
       "grid_auto_flow": null,
       "grid_auto_rows": null,
       "grid_column": null,
       "grid_gap": null,
       "grid_row": null,
       "grid_template_areas": null,
       "grid_template_columns": null,
       "grid_template_rows": null,
       "height": null,
       "justify_content": null,
       "justify_items": null,
       "left": null,
       "margin": null,
       "max_height": null,
       "max_width": null,
       "min_height": null,
       "min_width": null,
       "object_fit": null,
       "object_position": null,
       "order": null,
       "overflow": null,
       "overflow_x": null,
       "overflow_y": null,
       "padding": null,
       "right": null,
       "top": null,
       "visibility": null,
       "width": null
      }
     },
     "3d10dd86e3db49b8a3c6cfb0334ca505": {
      "model_module": "@jupyter-widgets/base",
      "model_module_version": "1.2.0",
      "model_name": "LayoutModel",
      "state": {
       "_model_module": "@jupyter-widgets/base",
       "_model_module_version": "1.2.0",
       "_model_name": "LayoutModel",
       "_view_count": null,
       "_view_module": "@jupyter-widgets/base",
       "_view_module_version": "1.2.0",
       "_view_name": "LayoutView",
       "align_content": null,
       "align_items": null,
       "align_self": null,
       "border": null,
       "bottom": null,
       "display": null,
       "flex": null,
       "flex_flow": null,
       "grid_area": null,
       "grid_auto_columns": null,
       "grid_auto_flow": null,
       "grid_auto_rows": null,
       "grid_column": null,
       "grid_gap": null,
       "grid_row": null,
       "grid_template_areas": null,
       "grid_template_columns": null,
       "grid_template_rows": null,
       "height": null,
       "justify_content": null,
       "justify_items": null,
       "left": null,
       "margin": null,
       "max_height": null,
       "max_width": null,
       "min_height": null,
       "min_width": null,
       "object_fit": null,
       "object_position": null,
       "order": null,
       "overflow": null,
       "overflow_x": null,
       "overflow_y": null,
       "padding": null,
       "right": null,
       "top": null,
       "visibility": null,
       "width": null
      }
     },
     "496dc37e04284c208119b8002132a18c": {
      "model_module": "@jupyter-widgets/controls",
      "model_module_version": "1.5.0",
      "model_name": "HTMLModel",
      "state": {
       "_dom_classes": [],
       "_model_module": "@jupyter-widgets/controls",
       "_model_module_version": "1.5.0",
       "_model_name": "HTMLModel",
       "_view_count": null,
       "_view_module": "@jupyter-widgets/controls",
       "_view_module_version": "1.5.0",
       "_view_name": "HTMLView",
       "description": "",
       "description_tooltip": null,
       "layout": "IPY_MODEL_3b4e66bcde944c1f8f50c763aee17b98",
       "placeholder": "​",
       "style": "IPY_MODEL_94625a3ba1b543aa927d9a27f55de462",
       "value": "100%"
      }
     },
     "4c8ccde1014a4321b6aa34a5155fe553": {
      "model_module": "@jupyter-widgets/controls",
      "model_module_version": "1.5.0",
      "model_name": "FloatProgressModel",
      "state": {
       "_dom_classes": [],
       "_model_module": "@jupyter-widgets/controls",
       "_model_module_version": "1.5.0",
       "_model_name": "FloatProgressModel",
       "_view_count": null,
       "_view_module": "@jupyter-widgets/controls",
       "_view_module_version": "1.5.0",
       "_view_name": "ProgressView",
       "bar_style": "success",
       "description": "",
       "description_tooltip": null,
       "layout": "IPY_MODEL_06562a4191eb4bcc9f91c914f63c9231",
       "max": 1501.0,
       "min": 0.0,
       "orientation": "horizontal",
       "style": "IPY_MODEL_928942c56fa640ab82565fb0a87eb035",
       "value": 1501.0
      }
     },
     "4cab080627ff4fb4966ec9cc741a1b55": {
      "model_module": "@jupyter-widgets/controls",
      "model_module_version": "1.5.0",
      "model_name": "ProgressStyleModel",
      "state": {
       "_model_module": "@jupyter-widgets/controls",
       "_model_module_version": "1.5.0",
       "_model_name": "ProgressStyleModel",
       "_view_count": null,
       "_view_module": "@jupyter-widgets/base",
       "_view_module_version": "1.2.0",
       "_view_name": "StyleView",
       "bar_color": null,
       "description_width": ""
      }
     },
     "51985579b8d24dba8238c2deb3c384de": {
      "model_module": "@jupyter-widgets/base",
      "model_module_version": "1.2.0",
      "model_name": "LayoutModel",
      "state": {
       "_model_module": "@jupyter-widgets/base",
       "_model_module_version": "1.2.0",
       "_model_name": "LayoutModel",
       "_view_count": null,
       "_view_module": "@jupyter-widgets/base",
       "_view_module_version": "1.2.0",
       "_view_name": "LayoutView",
       "align_content": null,
       "align_items": null,
       "align_self": null,
       "border": null,
       "bottom": null,
       "display": null,
       "flex": null,
       "flex_flow": null,
       "grid_area": null,
       "grid_auto_columns": null,
       "grid_auto_flow": null,
       "grid_auto_rows": null,
       "grid_column": null,
       "grid_gap": null,
       "grid_row": null,
       "grid_template_areas": null,
       "grid_template_columns": null,
       "grid_template_rows": null,
       "height": null,
       "justify_content": null,
       "justify_items": null,
       "left": null,
       "margin": null,
       "max_height": null,
       "max_width": null,
       "min_height": null,
       "min_width": null,
       "object_fit": null,
       "object_position": null,
       "order": null,
       "overflow": null,
       "overflow_x": null,
       "overflow_y": null,
       "padding": null,
       "right": null,
       "top": null,
       "visibility": null,
       "width": null
      }
     },
     "56a180d4f2f84c24878a67c8c4f0acb4": {
      "model_module": "@jupyter-widgets/controls",
      "model_module_version": "1.5.0",
      "model_name": "DescriptionStyleModel",
      "state": {
       "_model_module": "@jupyter-widgets/controls",
       "_model_module_version": "1.5.0",
       "_model_name": "DescriptionStyleModel",
       "_view_count": null,
       "_view_module": "@jupyter-widgets/base",
       "_view_module_version": "1.2.0",
       "_view_name": "StyleView",
       "description_width": ""
      }
     },
     "606c00ed4e304c50a0da5a377483856e": {
      "model_module": "@jupyter-widgets/controls",
      "model_module_version": "1.5.0",
      "model_name": "DescriptionStyleModel",
      "state": {
       "_model_module": "@jupyter-widgets/controls",
       "_model_module_version": "1.5.0",
       "_model_name": "DescriptionStyleModel",
       "_view_count": null,
       "_view_module": "@jupyter-widgets/base",
       "_view_module_version": "1.2.0",
       "_view_name": "StyleView",
       "description_width": ""
      }
     },
     "61d2b929fb904fada4fcee5634871a29": {
      "model_module": "@jupyter-widgets/controls",
      "model_module_version": "1.5.0",
      "model_name": "DescriptionStyleModel",
      "state": {
       "_model_module": "@jupyter-widgets/controls",
       "_model_module_version": "1.5.0",
       "_model_name": "DescriptionStyleModel",
       "_view_count": null,
       "_view_module": "@jupyter-widgets/base",
       "_view_module_version": "1.2.0",
       "_view_name": "StyleView",
       "description_width": ""
      }
     },
     "6c7452d2abf8441cbfe0cc7506d017b7": {
      "model_module": "@jupyter-widgets/controls",
      "model_module_version": "1.5.0",
      "model_name": "FloatProgressModel",
      "state": {
       "_dom_classes": [],
       "_model_module": "@jupyter-widgets/controls",
       "_model_module_version": "1.5.0",
       "_model_name": "FloatProgressModel",
       "_view_count": null,
       "_view_module": "@jupyter-widgets/controls",
       "_view_module_version": "1.5.0",
       "_view_name": "ProgressView",
       "bar_style": "success",
       "description": "",
       "description_tooltip": null,
       "layout": "IPY_MODEL_d01420dcbc79403e8d6419a4d15dd0db",
       "max": 11.0,
       "min": 0.0,
       "orientation": "horizontal",
       "style": "IPY_MODEL_1d37ad25568d4b63935e41557706240f",
       "value": 11.0
      }
     },
     "6e9d6a52adb54c47a93c0f92415dc29d": {
      "model_module": "@jupyter-widgets/controls",
      "model_module_version": "1.5.0",
      "model_name": "DescriptionStyleModel",
      "state": {
       "_model_module": "@jupyter-widgets/controls",
       "_model_module_version": "1.5.0",
       "_model_name": "DescriptionStyleModel",
       "_view_count": null,
       "_view_module": "@jupyter-widgets/base",
       "_view_module_version": "1.2.0",
       "_view_name": "StyleView",
       "description_width": ""
      }
     },
     "70a5c596552749bfa9912f5c5a6095b9": {
      "model_module": "@jupyter-widgets/controls",
      "model_module_version": "1.5.0",
      "model_name": "ProgressStyleModel",
      "state": {
       "_model_module": "@jupyter-widgets/controls",
       "_model_module_version": "1.5.0",
       "_model_name": "ProgressStyleModel",
       "_view_count": null,
       "_view_module": "@jupyter-widgets/base",
       "_view_module_version": "1.2.0",
       "_view_name": "StyleView",
       "bar_color": null,
       "description_width": ""
      }
     },
     "75285b6c267b457f906801a9eccff06a": {
      "model_module": "@jupyter-widgets/base",
      "model_module_version": "1.2.0",
      "model_name": "LayoutModel",
      "state": {
       "_model_module": "@jupyter-widgets/base",
       "_model_module_version": "1.2.0",
       "_model_name": "LayoutModel",
       "_view_count": null,
       "_view_module": "@jupyter-widgets/base",
       "_view_module_version": "1.2.0",
       "_view_name": "LayoutView",
       "align_content": null,
       "align_items": null,
       "align_self": null,
       "border": null,
       "bottom": null,
       "display": null,
       "flex": null,
       "flex_flow": null,
       "grid_area": null,
       "grid_auto_columns": null,
       "grid_auto_flow": null,
       "grid_auto_rows": null,
       "grid_column": null,
       "grid_gap": null,
       "grid_row": null,
       "grid_template_areas": null,
       "grid_template_columns": null,
       "grid_template_rows": null,
       "height": null,
       "justify_content": null,
       "justify_items": null,
       "left": null,
       "margin": null,
       "max_height": null,
       "max_width": null,
       "min_height": null,
       "min_width": null,
       "object_fit": null,
       "object_position": null,
       "order": null,
       "overflow": null,
       "overflow_x": null,
       "overflow_y": null,
       "padding": null,
       "right": null,
       "top": null,
       "visibility": null,
       "width": null
      }
     },
     "7857a433dfc04e0285a30e0468c62059": {
      "model_module": "@jupyter-widgets/controls",
      "model_module_version": "1.5.0",
      "model_name": "DescriptionStyleModel",
      "state": {
       "_model_module": "@jupyter-widgets/controls",
       "_model_module_version": "1.5.0",
       "_model_name": "DescriptionStyleModel",
       "_view_count": null,
       "_view_module": "@jupyter-widgets/base",
       "_view_module_version": "1.2.0",
       "_view_name": "StyleView",
       "description_width": ""
      }
     },
     "799a60ed1d954ce4bbe42d96c856f036": {
      "model_module": "@jupyter-widgets/controls",
      "model_module_version": "1.5.0",
      "model_name": "HTMLModel",
      "state": {
       "_dom_classes": [],
       "_model_module": "@jupyter-widgets/controls",
       "_model_module_version": "1.5.0",
       "_model_name": "HTMLModel",
       "_view_count": null,
       "_view_module": "@jupyter-widgets/controls",
       "_view_module_version": "1.5.0",
       "_view_name": "HTMLView",
       "description": "",
       "description_tooltip": null,
       "layout": "IPY_MODEL_c0f0079b6e864646beab3c5ae4e9cc1f",
       "placeholder": "​",
       "style": "IPY_MODEL_2a5dd4463fc54783b03a55776628934e",
       "value": "100%"
      }
     },
     "7e609f4919ba4e45a4922a90e6a57b53": {
      "model_module": "@jupyter-widgets/controls",
      "model_module_version": "1.5.0",
      "model_name": "DescriptionStyleModel",
      "state": {
       "_model_module": "@jupyter-widgets/controls",
       "_model_module_version": "1.5.0",
       "_model_name": "DescriptionStyleModel",
       "_view_count": null,
       "_view_module": "@jupyter-widgets/base",
       "_view_module_version": "1.2.0",
       "_view_name": "StyleView",
       "description_width": ""
      }
     },
     "928942c56fa640ab82565fb0a87eb035": {
      "model_module": "@jupyter-widgets/controls",
      "model_module_version": "1.5.0",
      "model_name": "ProgressStyleModel",
      "state": {
       "_model_module": "@jupyter-widgets/controls",
       "_model_module_version": "1.5.0",
       "_model_name": "ProgressStyleModel",
       "_view_count": null,
       "_view_module": "@jupyter-widgets/base",
       "_view_module_version": "1.2.0",
       "_view_name": "StyleView",
       "bar_color": null,
       "description_width": ""
      }
     },
     "94625a3ba1b543aa927d9a27f55de462": {
      "model_module": "@jupyter-widgets/controls",
      "model_module_version": "1.5.0",
      "model_name": "DescriptionStyleModel",
      "state": {
       "_model_module": "@jupyter-widgets/controls",
       "_model_module_version": "1.5.0",
       "_model_name": "DescriptionStyleModel",
       "_view_count": null,
       "_view_module": "@jupyter-widgets/base",
       "_view_module_version": "1.2.0",
       "_view_name": "StyleView",
       "description_width": ""
      }
     },
     "95c4c65d893d470d868dec1c393cd997": {
      "model_module": "@jupyter-widgets/base",
      "model_module_version": "1.2.0",
      "model_name": "LayoutModel",
      "state": {
       "_model_module": "@jupyter-widgets/base",
       "_model_module_version": "1.2.0",
       "_model_name": "LayoutModel",
       "_view_count": null,
       "_view_module": "@jupyter-widgets/base",
       "_view_module_version": "1.2.0",
       "_view_name": "LayoutView",
       "align_content": null,
       "align_items": null,
       "align_self": null,
       "border": null,
       "bottom": null,
       "display": null,
       "flex": null,
       "flex_flow": null,
       "grid_area": null,
       "grid_auto_columns": null,
       "grid_auto_flow": null,
       "grid_auto_rows": null,
       "grid_column": null,
       "grid_gap": null,
       "grid_row": null,
       "grid_template_areas": null,
       "grid_template_columns": null,
       "grid_template_rows": null,
       "height": null,
       "justify_content": null,
       "justify_items": null,
       "left": null,
       "margin": null,
       "max_height": null,
       "max_width": null,
       "min_height": null,
       "min_width": null,
       "object_fit": null,
       "object_position": null,
       "order": null,
       "overflow": null,
       "overflow_x": null,
       "overflow_y": null,
       "padding": null,
       "right": null,
       "top": null,
       "visibility": null,
       "width": null
      }
     },
     "9b91dffd1dd646ee8d57bfc378765a98": {
      "model_module": "@jupyter-widgets/controls",
      "model_module_version": "1.5.0",
      "model_name": "HTMLModel",
      "state": {
       "_dom_classes": [],
       "_model_module": "@jupyter-widgets/controls",
       "_model_module_version": "1.5.0",
       "_model_name": "HTMLModel",
       "_view_count": null,
       "_view_module": "@jupyter-widgets/controls",
       "_view_module_version": "1.5.0",
       "_view_name": "HTMLView",
       "description": "",
       "description_tooltip": null,
       "layout": "IPY_MODEL_35fefc3dbc6e4f53af6146485526b125",
       "placeholder": "​",
       "style": "IPY_MODEL_6e9d6a52adb54c47a93c0f92415dc29d",
       "value": " 1500/1500 [00:00&lt;00:00, 3034.56it/s]"
      }
     },
     "9f795152784745868c0cef0aac82fcad": {
      "model_module": "@jupyter-widgets/controls",
      "model_module_version": "1.5.0",
      "model_name": "DescriptionStyleModel",
      "state": {
       "_model_module": "@jupyter-widgets/controls",
       "_model_module_version": "1.5.0",
       "_model_name": "DescriptionStyleModel",
       "_view_count": null,
       "_view_module": "@jupyter-widgets/base",
       "_view_module_version": "1.2.0",
       "_view_name": "StyleView",
       "description_width": ""
      }
     },
     "a3ca99dee75047c68c452acc82bf05e7": {
      "model_module": "@jupyter-widgets/controls",
      "model_module_version": "1.5.0",
      "model_name": "HTMLModel",
      "state": {
       "_dom_classes": [],
       "_model_module": "@jupyter-widgets/controls",
       "_model_module_version": "1.5.0",
       "_model_name": "HTMLModel",
       "_view_count": null,
       "_view_module": "@jupyter-widgets/controls",
       "_view_module_version": "1.5.0",
       "_view_name": "HTMLView",
       "description": "",
       "description_tooltip": null,
       "layout": "IPY_MODEL_0d9789109af4401d9a558f8dfb1a6d97",
       "placeholder": "​",
       "style": "IPY_MODEL_7e609f4919ba4e45a4922a90e6a57b53",
       "value": " 1500/1500 [00:05&lt;00:00, 281.29it/s]"
      }
     },
     "a5f894eebe254fa79e80b1a83eaa2c8a": {
      "model_module": "@jupyter-widgets/controls",
      "model_module_version": "1.5.0",
      "model_name": "DescriptionStyleModel",
      "state": {
       "_model_module": "@jupyter-widgets/controls",
       "_model_module_version": "1.5.0",
       "_model_name": "DescriptionStyleModel",
       "_view_count": null,
       "_view_module": "@jupyter-widgets/base",
       "_view_module_version": "1.2.0",
       "_view_name": "StyleView",
       "description_width": ""
      }
     },
     "a9191c7738c641b9b8c1435f82fa5213": {
      "model_module": "@jupyter-widgets/controls",
      "model_module_version": "1.5.0",
      "model_name": "HTMLModel",
      "state": {
       "_dom_classes": [],
       "_model_module": "@jupyter-widgets/controls",
       "_model_module_version": "1.5.0",
       "_model_name": "HTMLModel",
       "_view_count": null,
       "_view_module": "@jupyter-widgets/controls",
       "_view_module_version": "1.5.0",
       "_view_name": "HTMLView",
       "description": "",
       "description_tooltip": null,
       "layout": "IPY_MODEL_51985579b8d24dba8238c2deb3c384de",
       "placeholder": "​",
       "style": "IPY_MODEL_61d2b929fb904fada4fcee5634871a29",
       "value": "100%"
      }
     },
     "aeb974013e3f4f71b08a418fd52d6cb6": {
      "model_module": "@jupyter-widgets/controls",
      "model_module_version": "1.5.0",
      "model_name": "HBoxModel",
      "state": {
       "_dom_classes": [],
       "_model_module": "@jupyter-widgets/controls",
       "_model_module_version": "1.5.0",
       "_model_name": "HBoxModel",
       "_view_count": null,
       "_view_module": "@jupyter-widgets/controls",
       "_view_module_version": "1.5.0",
       "_view_name": "HBoxView",
       "box_style": "",
       "children": [
        "IPY_MODEL_12679127a2e646df8ea6d9868053aa94",
        "IPY_MODEL_d62457848e5445029b57d554b914c48d",
        "IPY_MODEL_9b91dffd1dd646ee8d57bfc378765a98"
       ],
       "layout": "IPY_MODEL_d1c8e47310764ed5b2829dc45f5112b5"
      }
     },
     "af3a446535464b2e8ba74c7dc83cb176": {
      "model_module": "@jupyter-widgets/controls",
      "model_module_version": "1.5.0",
      "model_name": "HTMLModel",
      "state": {
       "_dom_classes": [],
       "_model_module": "@jupyter-widgets/controls",
       "_model_module_version": "1.5.0",
       "_model_name": "HTMLModel",
       "_view_count": null,
       "_view_module": "@jupyter-widgets/controls",
       "_view_module_version": "1.5.0",
       "_view_name": "HTMLView",
       "description": "",
       "description_tooltip": null,
       "layout": "IPY_MODEL_f149b2c0940a40cd97a4d175f8fcf23f",
       "placeholder": "​",
       "style": "IPY_MODEL_7857a433dfc04e0285a30e0468c62059",
       "value": " 1500/1500 [00:09&lt;00:00, 170.47it/s]"
      }
     },
     "bc72340e0b2e49208a7367e743c61932": {
      "model_module": "@jupyter-widgets/base",
      "model_module_version": "1.2.0",
      "model_name": "LayoutModel",
      "state": {
       "_model_module": "@jupyter-widgets/base",
       "_model_module_version": "1.2.0",
       "_model_name": "LayoutModel",
       "_view_count": null,
       "_view_module": "@jupyter-widgets/base",
       "_view_module_version": "1.2.0",
       "_view_name": "LayoutView",
       "align_content": null,
       "align_items": null,
       "align_self": null,
       "border": null,
       "bottom": null,
       "display": null,
       "flex": null,
       "flex_flow": null,
       "grid_area": null,
       "grid_auto_columns": null,
       "grid_auto_flow": null,
       "grid_auto_rows": null,
       "grid_column": null,
       "grid_gap": null,
       "grid_row": null,
       "grid_template_areas": null,
       "grid_template_columns": null,
       "grid_template_rows": null,
       "height": null,
       "justify_content": null,
       "justify_items": null,
       "left": null,
       "margin": null,
       "max_height": null,
       "max_width": null,
       "min_height": null,
       "min_width": null,
       "object_fit": null,
       "object_position": null,
       "order": null,
       "overflow": null,
       "overflow_x": null,
       "overflow_y": null,
       "padding": null,
       "right": null,
       "top": null,
       "visibility": null,
       "width": null
      }
     },
     "bdb5d70ea6ad44938a7179f8f92bb231": {
      "model_module": "@jupyter-widgets/controls",
      "model_module_version": "1.5.0",
      "model_name": "HBoxModel",
      "state": {
       "_dom_classes": [],
       "_model_module": "@jupyter-widgets/controls",
       "_model_module_version": "1.5.0",
       "_model_name": "HBoxModel",
       "_view_count": null,
       "_view_module": "@jupyter-widgets/controls",
       "_view_module_version": "1.5.0",
       "_view_name": "HBoxView",
       "box_style": "",
       "children": [
        "IPY_MODEL_496dc37e04284c208119b8002132a18c",
        "IPY_MODEL_6c7452d2abf8441cbfe0cc7506d017b7",
        "IPY_MODEL_cad0b42a80974047927d2c8e11cfecb2"
       ],
       "layout": "IPY_MODEL_db5fece5800c4617ad5950c3ad7aba63"
      }
     },
     "bddcef226ede4200a2de06dddbf62399": {
      "model_module": "@jupyter-widgets/controls",
      "model_module_version": "1.5.0",
      "model_name": "HBoxModel",
      "state": {
       "_dom_classes": [],
       "_model_module": "@jupyter-widgets/controls",
       "_model_module_version": "1.5.0",
       "_model_name": "HBoxModel",
       "_view_count": null,
       "_view_module": "@jupyter-widgets/controls",
       "_view_module_version": "1.5.0",
       "_view_name": "HBoxView",
       "box_style": "",
       "children": [
        "IPY_MODEL_799a60ed1d954ce4bbe42d96c856f036",
        "IPY_MODEL_2292f80e67694762a4a12f2ab5270c26",
        "IPY_MODEL_a3ca99dee75047c68c452acc82bf05e7"
       ],
       "layout": "IPY_MODEL_d90a99b68d20448aa5d31aef696322e2"
      }
     },
     "c0f0079b6e864646beab3c5ae4e9cc1f": {
      "model_module": "@jupyter-widgets/base",
      "model_module_version": "1.2.0",
      "model_name": "LayoutModel",
      "state": {
       "_model_module": "@jupyter-widgets/base",
       "_model_module_version": "1.2.0",
       "_model_name": "LayoutModel",
       "_view_count": null,
       "_view_module": "@jupyter-widgets/base",
       "_view_module_version": "1.2.0",
       "_view_name": "LayoutView",
       "align_content": null,
       "align_items": null,
       "align_self": null,
       "border": null,
       "bottom": null,
       "display": null,
       "flex": null,
       "flex_flow": null,
       "grid_area": null,
       "grid_auto_columns": null,
       "grid_auto_flow": null,
       "grid_auto_rows": null,
       "grid_column": null,
       "grid_gap": null,
       "grid_row": null,
       "grid_template_areas": null,
       "grid_template_columns": null,
       "grid_template_rows": null,
       "height": null,
       "justify_content": null,
       "justify_items": null,
       "left": null,
       "margin": null,
       "max_height": null,
       "max_width": null,
       "min_height": null,
       "min_width": null,
       "object_fit": null,
       "object_position": null,
       "order": null,
       "overflow": null,
       "overflow_x": null,
       "overflow_y": null,
       "padding": null,
       "right": null,
       "top": null,
       "visibility": null,
       "width": null
      }
     },
     "cad0b42a80974047927d2c8e11cfecb2": {
      "model_module": "@jupyter-widgets/controls",
      "model_module_version": "1.5.0",
      "model_name": "HTMLModel",
      "state": {
       "_dom_classes": [],
       "_model_module": "@jupyter-widgets/controls",
       "_model_module_version": "1.5.0",
       "_model_name": "HTMLModel",
       "_view_count": null,
       "_view_module": "@jupyter-widgets/controls",
       "_view_module_version": "1.5.0",
       "_view_name": "HTMLView",
       "description": "",
       "description_tooltip": null,
       "layout": "IPY_MODEL_95c4c65d893d470d868dec1c393cd997",
       "placeholder": "​",
       "style": "IPY_MODEL_56a180d4f2f84c24878a67c8c4f0acb4",
       "value": " 11/11 [00:00&lt;00:00, 18.05it/s]"
      }
     },
     "d01420dcbc79403e8d6419a4d15dd0db": {
      "model_module": "@jupyter-widgets/base",
      "model_module_version": "1.2.0",
      "model_name": "LayoutModel",
      "state": {
       "_model_module": "@jupyter-widgets/base",
       "_model_module_version": "1.2.0",
       "_model_name": "LayoutModel",
       "_view_count": null,
       "_view_module": "@jupyter-widgets/base",
       "_view_module_version": "1.2.0",
       "_view_name": "LayoutView",
       "align_content": null,
       "align_items": null,
       "align_self": null,
       "border": null,
       "bottom": null,
       "display": null,
       "flex": null,
       "flex_flow": null,
       "grid_area": null,
       "grid_auto_columns": null,
       "grid_auto_flow": null,
       "grid_auto_rows": null,
       "grid_column": null,
       "grid_gap": null,
       "grid_row": null,
       "grid_template_areas": null,
       "grid_template_columns": null,
       "grid_template_rows": null,
       "height": null,
       "justify_content": null,
       "justify_items": null,
       "left": null,
       "margin": null,
       "max_height": null,
       "max_width": null,
       "min_height": null,
       "min_width": null,
       "object_fit": null,
       "object_position": null,
       "order": null,
       "overflow": null,
       "overflow_x": null,
       "overflow_y": null,
       "padding": null,
       "right": null,
       "top": null,
       "visibility": null,
       "width": null
      }
     },
     "d0f901d0aa084191bdf1f847c950f1d1": {
      "model_module": "@jupyter-widgets/base",
      "model_module_version": "1.2.0",
      "model_name": "LayoutModel",
      "state": {
       "_model_module": "@jupyter-widgets/base",
       "_model_module_version": "1.2.0",
       "_model_name": "LayoutModel",
       "_view_count": null,
       "_view_module": "@jupyter-widgets/base",
       "_view_module_version": "1.2.0",
       "_view_name": "LayoutView",
       "align_content": null,
       "align_items": null,
       "align_self": null,
       "border": null,
       "bottom": null,
       "display": null,
       "flex": null,
       "flex_flow": null,
       "grid_area": null,
       "grid_auto_columns": null,
       "grid_auto_flow": null,
       "grid_auto_rows": null,
       "grid_column": null,
       "grid_gap": null,
       "grid_row": null,
       "grid_template_areas": null,
       "grid_template_columns": null,
       "grid_template_rows": null,
       "height": null,
       "justify_content": null,
       "justify_items": null,
       "left": null,
       "margin": null,
       "max_height": null,
       "max_width": null,
       "min_height": null,
       "min_width": null,
       "object_fit": null,
       "object_position": null,
       "order": null,
       "overflow": null,
       "overflow_x": null,
       "overflow_y": null,
       "padding": null,
       "right": null,
       "top": null,
       "visibility": null,
       "width": null
      }
     },
     "d1c8e47310764ed5b2829dc45f5112b5": {
      "model_module": "@jupyter-widgets/base",
      "model_module_version": "1.2.0",
      "model_name": "LayoutModel",
      "state": {
       "_model_module": "@jupyter-widgets/base",
       "_model_module_version": "1.2.0",
       "_model_name": "LayoutModel",
       "_view_count": null,
       "_view_module": "@jupyter-widgets/base",
       "_view_module_version": "1.2.0",
       "_view_name": "LayoutView",
       "align_content": null,
       "align_items": null,
       "align_self": null,
       "border": null,
       "bottom": null,
       "display": null,
       "flex": null,
       "flex_flow": null,
       "grid_area": null,
       "grid_auto_columns": null,
       "grid_auto_flow": null,
       "grid_auto_rows": null,
       "grid_column": null,
       "grid_gap": null,
       "grid_row": null,
       "grid_template_areas": null,
       "grid_template_columns": null,
       "grid_template_rows": null,
       "height": null,
       "justify_content": null,
       "justify_items": null,
       "left": null,
       "margin": null,
       "max_height": null,
       "max_width": null,
       "min_height": null,
       "min_width": null,
       "object_fit": null,
       "object_position": null,
       "order": null,
       "overflow": null,
       "overflow_x": null,
       "overflow_y": null,
       "padding": null,
       "right": null,
       "top": null,
       "visibility": null,
       "width": null
      }
     },
     "d62457848e5445029b57d554b914c48d": {
      "model_module": "@jupyter-widgets/controls",
      "model_module_version": "1.5.0",
      "model_name": "FloatProgressModel",
      "state": {
       "_dom_classes": [],
       "_model_module": "@jupyter-widgets/controls",
       "_model_module_version": "1.5.0",
       "_model_name": "FloatProgressModel",
       "_view_count": null,
       "_view_module": "@jupyter-widgets/controls",
       "_view_module_version": "1.5.0",
       "_view_name": "ProgressView",
       "bar_style": "success",
       "description": "",
       "description_tooltip": null,
       "layout": "IPY_MODEL_21ec1497580042b89da7f577b22fa61b",
       "max": 1500.0,
       "min": 0.0,
       "orientation": "horizontal",
       "style": "IPY_MODEL_4cab080627ff4fb4966ec9cc741a1b55",
       "value": 1500.0
      }
     },
     "d8cfcaa7c3a34e72bda837835e2ebb64": {
      "model_module": "@jupyter-widgets/controls",
      "model_module_version": "1.5.0",
      "model_name": "DescriptionStyleModel",
      "state": {
       "_model_module": "@jupyter-widgets/controls",
       "_model_module_version": "1.5.0",
       "_model_name": "DescriptionStyleModel",
       "_view_count": null,
       "_view_module": "@jupyter-widgets/base",
       "_view_module_version": "1.2.0",
       "_view_name": "StyleView",
       "description_width": ""
      }
     },
     "d90a99b68d20448aa5d31aef696322e2": {
      "model_module": "@jupyter-widgets/base",
      "model_module_version": "1.2.0",
      "model_name": "LayoutModel",
      "state": {
       "_model_module": "@jupyter-widgets/base",
       "_model_module_version": "1.2.0",
       "_model_name": "LayoutModel",
       "_view_count": null,
       "_view_module": "@jupyter-widgets/base",
       "_view_module_version": "1.2.0",
       "_view_name": "LayoutView",
       "align_content": null,
       "align_items": null,
       "align_self": null,
       "border": null,
       "bottom": null,
       "display": null,
       "flex": null,
       "flex_flow": null,
       "grid_area": null,
       "grid_auto_columns": null,
       "grid_auto_flow": null,
       "grid_auto_rows": null,
       "grid_column": null,
       "grid_gap": null,
       "grid_row": null,
       "grid_template_areas": null,
       "grid_template_columns": null,
       "grid_template_rows": null,
       "height": null,
       "justify_content": null,
       "justify_items": null,
       "left": null,
       "margin": null,
       "max_height": null,
       "max_width": null,
       "min_height": null,
       "min_width": null,
       "object_fit": null,
       "object_position": null,
       "order": null,
       "overflow": null,
       "overflow_x": null,
       "overflow_y": null,
       "padding": null,
       "right": null,
       "top": null,
       "visibility": null,
       "width": null
      }
     },
     "db5fece5800c4617ad5950c3ad7aba63": {
      "model_module": "@jupyter-widgets/base",
      "model_module_version": "1.2.0",
      "model_name": "LayoutModel",
      "state": {
       "_model_module": "@jupyter-widgets/base",
       "_model_module_version": "1.2.0",
       "_model_name": "LayoutModel",
       "_view_count": null,
       "_view_module": "@jupyter-widgets/base",
       "_view_module_version": "1.2.0",
       "_view_name": "LayoutView",
       "align_content": null,
       "align_items": null,
       "align_self": null,
       "border": null,
       "bottom": null,
       "display": null,
       "flex": null,
       "flex_flow": null,
       "grid_area": null,
       "grid_auto_columns": null,
       "grid_auto_flow": null,
       "grid_auto_rows": null,
       "grid_column": null,
       "grid_gap": null,
       "grid_row": null,
       "grid_template_areas": null,
       "grid_template_columns": null,
       "grid_template_rows": null,
       "height": null,
       "justify_content": null,
       "justify_items": null,
       "left": null,
       "margin": null,
       "max_height": null,
       "max_width": null,
       "min_height": null,
       "min_width": null,
       "object_fit": null,
       "object_position": null,
       "order": null,
       "overflow": null,
       "overflow_x": null,
       "overflow_y": null,
       "padding": null,
       "right": null,
       "top": null,
       "visibility": null,
       "width": null
      }
     },
     "e3f958359f424bf9ba4d089c4a679708": {
      "model_module": "@jupyter-widgets/controls",
      "model_module_version": "1.5.0",
      "model_name": "ProgressStyleModel",
      "state": {
       "_model_module": "@jupyter-widgets/controls",
       "_model_module_version": "1.5.0",
       "_model_name": "ProgressStyleModel",
       "_view_count": null,
       "_view_module": "@jupyter-widgets/base",
       "_view_module_version": "1.2.0",
       "_view_name": "StyleView",
       "bar_color": null,
       "description_width": ""
      }
     },
     "e8f4275dbc2447faa52a37cb44dda2c3": {
      "model_module": "@jupyter-widgets/base",
      "model_module_version": "1.2.0",
      "model_name": "LayoutModel",
      "state": {
       "_model_module": "@jupyter-widgets/base",
       "_model_module_version": "1.2.0",
       "_model_name": "LayoutModel",
       "_view_count": null,
       "_view_module": "@jupyter-widgets/base",
       "_view_module_version": "1.2.0",
       "_view_name": "LayoutView",
       "align_content": null,
       "align_items": null,
       "align_self": null,
       "border": null,
       "bottom": null,
       "display": null,
       "flex": null,
       "flex_flow": null,
       "grid_area": null,
       "grid_auto_columns": null,
       "grid_auto_flow": null,
       "grid_auto_rows": null,
       "grid_column": null,
       "grid_gap": null,
       "grid_row": null,
       "grid_template_areas": null,
       "grid_template_columns": null,
       "grid_template_rows": null,
       "height": null,
       "justify_content": null,
       "justify_items": null,
       "left": null,
       "margin": null,
       "max_height": null,
       "max_width": null,
       "min_height": null,
       "min_width": null,
       "object_fit": null,
       "object_position": null,
       "order": null,
       "overflow": null,
       "overflow_x": null,
       "overflow_y": null,
       "padding": null,
       "right": null,
       "top": null,
       "visibility": null,
       "width": null
      }
     },
     "e8f57036c3dd436cae977bc717b9c948": {
      "model_module": "@jupyter-widgets/base",
      "model_module_version": "1.2.0",
      "model_name": "LayoutModel",
      "state": {
       "_model_module": "@jupyter-widgets/base",
       "_model_module_version": "1.2.0",
       "_model_name": "LayoutModel",
       "_view_count": null,
       "_view_module": "@jupyter-widgets/base",
       "_view_module_version": "1.2.0",
       "_view_name": "LayoutView",
       "align_content": null,
       "align_items": null,
       "align_self": null,
       "border": null,
       "bottom": null,
       "display": null,
       "flex": null,
       "flex_flow": null,
       "grid_area": null,
       "grid_auto_columns": null,
       "grid_auto_flow": null,
       "grid_auto_rows": null,
       "grid_column": null,
       "grid_gap": null,
       "grid_row": null,
       "grid_template_areas": null,
       "grid_template_columns": null,
       "grid_template_rows": null,
       "height": null,
       "justify_content": null,
       "justify_items": null,
       "left": null,
       "margin": null,
       "max_height": null,
       "max_width": null,
       "min_height": null,
       "min_width": null,
       "object_fit": null,
       "object_position": null,
       "order": null,
       "overflow": null,
       "overflow_x": null,
       "overflow_y": null,
       "padding": null,
       "right": null,
       "top": null,
       "visibility": null,
       "width": null
      }
     },
     "eb64cfed734d4f448616baeb898841cd": {
      "model_module": "@jupyter-widgets/controls",
      "model_module_version": "1.5.0",
      "model_name": "HBoxModel",
      "state": {
       "_dom_classes": [],
       "_model_module": "@jupyter-widgets/controls",
       "_model_module_version": "1.5.0",
       "_model_name": "HBoxModel",
       "_view_count": null,
       "_view_module": "@jupyter-widgets/controls",
       "_view_module_version": "1.5.0",
       "_view_name": "HBoxView",
       "box_style": "",
       "children": [
        "IPY_MODEL_20e34eeea2184f218bf6bfad69203053",
        "IPY_MODEL_fde2e77de0ce4455b225e043a1dfa4ce",
        "IPY_MODEL_af3a446535464b2e8ba74c7dc83cb176"
       ],
       "layout": "IPY_MODEL_e8f4275dbc2447faa52a37cb44dda2c3"
      }
     },
     "edc18af14f9441d2b3281a2b248e80f4": {
      "model_module": "@jupyter-widgets/controls",
      "model_module_version": "1.5.0",
      "model_name": "HBoxModel",
      "state": {
       "_dom_classes": [],
       "_model_module": "@jupyter-widgets/controls",
       "_model_module_version": "1.5.0",
       "_model_name": "HBoxModel",
       "_view_count": null,
       "_view_module": "@jupyter-widgets/controls",
       "_view_module_version": "1.5.0",
       "_view_name": "HBoxView",
       "box_style": "",
       "children": [
        "IPY_MODEL_02dd578eaf5e4851958cbad460f93eb1",
        "IPY_MODEL_4c8ccde1014a4321b6aa34a5155fe553",
        "IPY_MODEL_feb15ed25d42411b87247be4d955dd7b"
       ],
       "layout": "IPY_MODEL_75285b6c267b457f906801a9eccff06a"
      }
     },
     "ef84d69e327d41069d205090ff471846": {
      "model_module": "@jupyter-widgets/base",
      "model_module_version": "1.2.0",
      "model_name": "LayoutModel",
      "state": {
       "_model_module": "@jupyter-widgets/base",
       "_model_module_version": "1.2.0",
       "_model_name": "LayoutModel",
       "_view_count": null,
       "_view_module": "@jupyter-widgets/base",
       "_view_module_version": "1.2.0",
       "_view_name": "LayoutView",
       "align_content": null,
       "align_items": null,
       "align_self": null,
       "border": null,
       "bottom": null,
       "display": null,
       "flex": null,
       "flex_flow": null,
       "grid_area": null,
       "grid_auto_columns": null,
       "grid_auto_flow": null,
       "grid_auto_rows": null,
       "grid_column": null,
       "grid_gap": null,
       "grid_row": null,
       "grid_template_areas": null,
       "grid_template_columns": null,
       "grid_template_rows": null,
       "height": null,
       "justify_content": null,
       "justify_items": null,
       "left": null,
       "margin": null,
       "max_height": null,
       "max_width": null,
       "min_height": null,
       "min_width": null,
       "object_fit": null,
       "object_position": null,
       "order": null,
       "overflow": null,
       "overflow_x": null,
       "overflow_y": null,
       "padding": null,
       "right": null,
       "top": null,
       "visibility": null,
       "width": null
      }
     },
     "f149b2c0940a40cd97a4d175f8fcf23f": {
      "model_module": "@jupyter-widgets/base",
      "model_module_version": "1.2.0",
      "model_name": "LayoutModel",
      "state": {
       "_model_module": "@jupyter-widgets/base",
       "_model_module_version": "1.2.0",
       "_model_name": "LayoutModel",
       "_view_count": null,
       "_view_module": "@jupyter-widgets/base",
       "_view_module_version": "1.2.0",
       "_view_name": "LayoutView",
       "align_content": null,
       "align_items": null,
       "align_self": null,
       "border": null,
       "bottom": null,
       "display": null,
       "flex": null,
       "flex_flow": null,
       "grid_area": null,
       "grid_auto_columns": null,
       "grid_auto_flow": null,
       "grid_auto_rows": null,
       "grid_column": null,
       "grid_gap": null,
       "grid_row": null,
       "grid_template_areas": null,
       "grid_template_columns": null,
       "grid_template_rows": null,
       "height": null,
       "justify_content": null,
       "justify_items": null,
       "left": null,
       "margin": null,
       "max_height": null,
       "max_width": null,
       "min_height": null,
       "min_width": null,
       "object_fit": null,
       "object_position": null,
       "order": null,
       "overflow": null,
       "overflow_x": null,
       "overflow_y": null,
       "padding": null,
       "right": null,
       "top": null,
       "visibility": null,
       "width": null
      }
     },
     "f98f924bdf0e4d9d868b235b30bad78a": {
      "model_module": "@jupyter-widgets/controls",
      "model_module_version": "1.5.0",
      "model_name": "HTMLModel",
      "state": {
       "_dom_classes": [],
       "_model_module": "@jupyter-widgets/controls",
       "_model_module_version": "1.5.0",
       "_model_name": "HTMLModel",
       "_view_count": null,
       "_view_module": "@jupyter-widgets/controls",
       "_view_module_version": "1.5.0",
       "_view_name": "HTMLView",
       "description": "",
       "description_tooltip": null,
       "layout": "IPY_MODEL_d0f901d0aa084191bdf1f847c950f1d1",
       "placeholder": "​",
       "style": "IPY_MODEL_a5f894eebe254fa79e80b1a83eaa2c8a",
       "value": " 1500/1500 [00:04&lt;00:00, 364.51it/s]"
      }
     },
     "fde2e77de0ce4455b225e043a1dfa4ce": {
      "model_module": "@jupyter-widgets/controls",
      "model_module_version": "1.5.0",
      "model_name": "FloatProgressModel",
      "state": {
       "_dom_classes": [],
       "_model_module": "@jupyter-widgets/controls",
       "_model_module_version": "1.5.0",
       "_model_name": "FloatProgressModel",
       "_view_count": null,
       "_view_module": "@jupyter-widgets/controls",
       "_view_module_version": "1.5.0",
       "_view_name": "ProgressView",
       "bar_style": "success",
       "description": "",
       "description_tooltip": null,
       "layout": "IPY_MODEL_e8f57036c3dd436cae977bc717b9c948",
       "max": 1500.0,
       "min": 0.0,
       "orientation": "horizontal",
       "style": "IPY_MODEL_70a5c596552749bfa9912f5c5a6095b9",
       "value": 1500.0
      }
     },
     "feb15ed25d42411b87247be4d955dd7b": {
      "model_module": "@jupyter-widgets/controls",
      "model_module_version": "1.5.0",
      "model_name": "HTMLModel",
      "state": {
       "_dom_classes": [],
       "_model_module": "@jupyter-widgets/controls",
       "_model_module_version": "1.5.0",
       "_model_name": "HTMLModel",
       "_view_count": null,
       "_view_module": "@jupyter-widgets/controls",
       "_view_module_version": "1.5.0",
       "_view_name": "HTMLView",
       "description": "",
       "description_tooltip": null,
       "layout": "IPY_MODEL_3925da3afddc4a47b6d5b5634f6ae56e",
       "placeholder": "​",
       "style": "IPY_MODEL_606c00ed4e304c50a0da5a377483856e",
       "value": " 1501/1501 [00:12&lt;00:00, 142.38it/s]"
      }
     },
     "ff2ffd894b9d42c4bea5ed32814d173a": {
      "model_module": "@jupyter-widgets/base",
      "model_module_version": "1.2.0",
      "model_name": "LayoutModel",
      "state": {
       "_model_module": "@jupyter-widgets/base",
       "_model_module_version": "1.2.0",
       "_model_name": "LayoutModel",
       "_view_count": null,
       "_view_module": "@jupyter-widgets/base",
       "_view_module_version": "1.2.0",
       "_view_name": "LayoutView",
       "align_content": null,
       "align_items": null,
       "align_self": null,
       "border": null,
       "bottom": null,
       "display": null,
       "flex": null,
       "flex_flow": null,
       "grid_area": null,
       "grid_auto_columns": null,
       "grid_auto_flow": null,
       "grid_auto_rows": null,
       "grid_column": null,
       "grid_gap": null,
       "grid_row": null,
       "grid_template_areas": null,
       "grid_template_columns": null,
       "grid_template_rows": null,
       "height": null,
       "justify_content": null,
       "justify_items": null,
       "left": null,
       "margin": null,
       "max_height": null,
       "max_width": null,
       "min_height": null,
       "min_width": null,
       "object_fit": null,
       "object_position": null,
       "order": null,
       "overflow": null,
       "overflow_x": null,
       "overflow_y": null,
       "padding": null,
       "right": null,
       "top": null,
       "visibility": null,
       "width": null
      }
     },
     "ff5fff9ba2944cab8ce49efdf438a2cb": {
      "model_module": "@jupyter-widgets/controls",
      "model_module_version": "1.5.0",
      "model_name": "ProgressStyleModel",
      "state": {
       "_model_module": "@jupyter-widgets/controls",
       "_model_module_version": "1.5.0",
       "_model_name": "ProgressStyleModel",
       "_view_count": null,
       "_view_module": "@jupyter-widgets/base",
       "_view_module_version": "1.2.0",
       "_view_name": "StyleView",
       "bar_color": null,
       "description_width": ""
      }
     }
    },
    "version_major": 2,
    "version_minor": 0
   }
  }
 },
 "nbformat": 4,
 "nbformat_minor": 4
}
